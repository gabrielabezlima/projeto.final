{
 "cells": [
  {
   "cell_type": "code",
   "execution_count": 2,
   "metadata": {},
   "outputs": [],
   "source": [
    "import pandas as pd"
   ]
  },
  {
   "cell_type": "markdown",
   "metadata": {},
   "source": [
    "### Importando as tabelas"
   ]
  },
  {
   "cell_type": "code",
   "execution_count": 3,
   "metadata": {},
   "outputs": [
    {
     "name": "stderr",
     "output_type": "stream",
     "text": [
      "C:\\Users\\GGGGGGG\\AppData\\Local\\Temp\\ipykernel_28076\\1850033953.py:10: DtypeWarning: Columns (20,21,22,41,42,43,46,52,56,57) have mixed types. Specify dtype option on import or set low_memory=False.\n",
      "  tabela20221 = pd.read_csv(r\"C:\\Users\\GGGGGGG\\Documents\\Cursos\\Curso de Python\\Projeto Final\\ligue180-segundo-semestre-2022.csv\", sep=';')\n",
      "C:\\Users\\GGGGGGG\\AppData\\Local\\Temp\\ipykernel_28076\\1850033953.py:11: DtypeWarning: Columns (34) have mixed types. Specify dtype option on import or set low_memory=False.\n",
      "  tabela2023 = pd.read_csv(r\"C:\\Users\\GGGGGGG\\Documents\\Cursos\\Curso de Python\\Projeto Final\\ligue180-primeiro-semestre-2023.csv\", sep=';')\n",
      "C:\\Users\\GGGGGGG\\AppData\\Local\\Temp\\ipykernel_28076\\1850033953.py:13: DtypeWarning: Columns (35) have mixed types. Specify dtype option on import or set low_memory=False.\n",
      "  tabela2024 = pd.read_csv(r\"C:\\Users\\GGGGGGG\\Documents\\Cursos\\Curso de Python\\Projeto Final\\ligue180-primeiro-semestre-2024.csv\", sep=';')\n"
     ]
    }
   ],
   "source": [
    "tabela2017 = pd.read_csv(r\"C:\\Users\\GGGGGGG\\Documents\\Cursos\\Curso de Python\\Projeto Final\\ligue180-2017 (1).csv\", sep=';')\n",
    "tabela2018 = pd.read_csv(r\"C:\\Users\\GGGGGGG\\Documents\\Cursos\\Curso de Python\\Projeto Final\\ligue180-2018.csv\", sep=';')\n",
    "tabela20181 = pd.read_csv(r\"C:\\Users\\GGGGGGG\\Documents\\Cursos\\Curso de Python\\Projeto Final\\ligue180-nov-2018.csv\", sep=';')\n",
    "tabela2019 = pd.read_csv(r\"C:\\Users\\GGGGGGG\\Documents\\Cursos\\Curso de Python\\Projeto Final\\ligue180-2019.csv\", sep=';')\n",
    "tabela2020 = pd.read_csv(r\"C:\\Users\\GGGGGGG\\Documents\\Cursos\\Curso de Python\\Projeto Final\\ligue180-primeiro-semestre-2020.csv\", sep=';')\n",
    "tabela20201 = pd.read_csv(r\"C:\\Users\\GGGGGGG\\Documents\\Cursos\\Curso de Python\\Projeto Final\\ligue180-segundo-semestre-2020.csv\", sep=';')\n",
    "tabela2021 = pd.read_csv(r\"C:\\Users\\GGGGGGG\\Documents\\Cursos\\Curso de Python\\Projeto Final\\ligue180-primeiro-semestre-2021.csv\", sep=';')\n",
    "tabela20211 = pd.read_csv(r\"C:\\Users\\GGGGGGG\\Documents\\Cursos\\Curso de Python\\Projeto Final\\ligue180-segundo-semestre-2021.csv\", sep=';')\n",
    "tabela2022 = pd.read_csv(r\"C:\\Users\\GGGGGGG\\Documents\\Cursos\\Curso de Python\\Projeto Final\\ligue180-primeiro-semestre-2022.csv\", sep=';')\n",
    "tabela20221 = pd.read_csv(r\"C:\\Users\\GGGGGGG\\Documents\\Cursos\\Curso de Python\\Projeto Final\\ligue180-segundo-semestre-2022.csv\", sep=';')\n",
    "tabela2023 = pd.read_csv(r\"C:\\Users\\GGGGGGG\\Documents\\Cursos\\Curso de Python\\Projeto Final\\ligue180-primeiro-semestre-2023.csv\", sep=';')\n",
    "tabela20231 = pd.read_csv(r\"C:\\Users\\GGGGGGG\\Documents\\Cursos\\Curso de Python\\Projeto Final\\ligue180-segundo-semestre-2023.csv\", sep=';')\n",
    "tabela2024 = pd.read_csv(r\"C:\\Users\\GGGGGGG\\Documents\\Cursos\\Curso de Python\\Projeto Final\\ligue180-primeiro-semestre-2024.csv\", sep=';')"
   ]
  },
  {
   "cell_type": "markdown",
   "metadata": {},
   "source": [
    "### Resolvendo problemas nas colunas mencionadas no cod acima"
   ]
  },
  {
   "cell_type": "code",
   "execution_count": 4,
   "metadata": {},
   "outputs": [],
   "source": [
    "tabela20221 = pd.read_csv(r\"C:\\Users\\GGGGGGG\\Documents\\Cursos\\Curso de Python\\Projeto Final\\ligue180-segundo-semestre-2022.csv\", sep=';', dtype={'Column20': str, 'Column21': str, 'Column42': int, 'Column42': str, 'Column43': str, 'Columns46': str, 'Column52': str, 'Column56': str, 'Column57': str }, low_memory=False)\n",
    "tabela2023 = pd.read_csv(r\"C:\\Users\\GGGGGGG\\Documents\\Cursos\\Curso de Python\\Projeto Final\\ligue180-primeiro-semestre-2023.csv\", sep=';', dtype={'Column34': str}, low_memory=False)\n",
    "tabela2024 = pd.read_csv(r\"C:\\Users\\GGGGGGG\\Documents\\Cursos\\Curso de Python\\Projeto Final\\ligue180-primeiro-semestre-2024.csv\", sep=';', dtype={'Column35': str}, low_memory=False)\n"
   ]
  },
  {
   "cell_type": "markdown",
   "metadata": {},
   "source": [
    "### Tratamento das Bases"
   ]
  },
  {
   "cell_type": "markdown",
   "metadata": {},
   "source": [
    "Tratando Base 2017"
   ]
  },
  {
   "cell_type": "code",
   "execution_count": 5,
   "metadata": {},
   "outputs": [
    {
     "data": {
      "text/plain": [
       "Index(['data_atendimento', 'tipo_violencia', 'violencia_familiar',\n",
       "       'denunciante', 'filhos_vitima', 'dependencia_financeira_vitima',\n",
       "       'sexo_vitima', 'cor_vitima', 'faixa_etaria_vitima',\n",
       "       'escolaridade_vitima', 'frequenci_violencia', 'coabitacao_contexto',\n",
       "       'tempo_violencia_contexto', 'risco_contexto',\n",
       "       'relacao_agressor_contexto', 'sexo_agressor', 'cor_agressor',\n",
       "       'faixa_etaria_agressor', 'escolaridade_agressor',\n",
       "       'drogas_alcool_agressor', 'comportamento_efeito_agressor',\n",
       "       'filhos_violencia', 'violencia', 'uf', 'municipio', 'residencia'],\n",
       "      dtype='object')"
      ]
     },
     "execution_count": 5,
     "metadata": {},
     "output_type": "execute_result"
    }
   ],
   "source": [
    "tabela2017.columns"
   ]
  },
  {
   "cell_type": "code",
   "execution_count": 6,
   "metadata": {},
   "outputs": [],
   "source": [
    "# definir as colunas que eu desejo eliminar\n",
    "colunas_a_remover = [\n",
    "    'violencia_familiar',\n",
    "    'filhos_vitima',\n",
    "    'escolaridade_vitima',\n",
    "    'frequenci_violencia',\n",
    "    'coabitacao_contexto',\n",
    "    'tempo_violencia_contexto',\n",
    "    'risco_contexto',\n",
    "    'escolaridade_agressor',\n",
    "    'drogas_alcool_agressor',\n",
    "    'comportamento_efeito_agressor',\n",
    "    'filhos_violencia'\n",
    "]\n",
    "\n",
    "# Usando o método drop() para remover as colunas\n",
    "tabela2017 = tabela2017.drop(columns=colunas_a_remover)\n"
   ]
  },
  {
   "cell_type": "code",
   "execution_count": 7,
   "metadata": {},
   "outputs": [
    {
     "name": "stdout",
     "output_type": "stream",
     "text": [
      "<class 'pandas.core.frame.DataFrame'>\n",
      "RangeIndex: 155896 entries, 0 to 155895\n",
      "Data columns (total 15 columns):\n",
      " #   Column                         Non-Null Count   Dtype \n",
      "---  ------                         --------------   ----- \n",
      " 0   data_atendimento               155896 non-null  object\n",
      " 1   tipo_violencia                 155896 non-null  object\n",
      " 2   denunciante                    141369 non-null  object\n",
      " 3   dependencia_financeira_vitima  75654 non-null   object\n",
      " 4   sexo_vitima                    145761 non-null  object\n",
      " 5   cor_vitima                     93333 non-null   object\n",
      " 6   faixa_etaria_vitima            107873 non-null  object\n",
      " 7   relacao_agressor_contexto      123073 non-null  object\n",
      " 8   sexo_agressor                  139635 non-null  object\n",
      " 9   cor_agressor                   73676 non-null   object\n",
      " 10  faixa_etaria_agressor          79414 non-null   object\n",
      " 11  violencia                      137182 non-null  object\n",
      " 12  uf                             125516 non-null  object\n",
      " 13  municipio                      125516 non-null  object\n",
      " 14  residencia                     110636 non-null  object\n",
      "dtypes: object(15)\n",
      "memory usage: 17.8+ MB\n"
     ]
    }
   ],
   "source": [
    "tabela2017.info()"
   ]
  },
  {
   "cell_type": "code",
   "execution_count": 8,
   "metadata": {},
   "outputs": [
    {
     "data": {
      "text/html": [
       "<div>\n",
       "<style scoped>\n",
       "    .dataframe tbody tr th:only-of-type {\n",
       "        vertical-align: middle;\n",
       "    }\n",
       "\n",
       "    .dataframe tbody tr th {\n",
       "        vertical-align: top;\n",
       "    }\n",
       "\n",
       "    .dataframe thead th {\n",
       "        text-align: right;\n",
       "    }\n",
       "</style>\n",
       "<table border=\"1\" class=\"dataframe\">\n",
       "  <thead>\n",
       "    <tr style=\"text-align: right;\">\n",
       "      <th></th>\n",
       "      <th>data_atendimento</th>\n",
       "      <th>tipo_violencia</th>\n",
       "      <th>denunciante</th>\n",
       "      <th>dependencia_financeira_vitima</th>\n",
       "      <th>sexo_vitima</th>\n",
       "      <th>cor_vitima</th>\n",
       "      <th>faixa_etaria_vitima</th>\n",
       "      <th>relacao_agressor_contexto</th>\n",
       "      <th>sexo_agressor</th>\n",
       "      <th>cor_agressor</th>\n",
       "      <th>faixa_etaria_agressor</th>\n",
       "      <th>violencia</th>\n",
       "      <th>uf</th>\n",
       "      <th>municipio</th>\n",
       "      <th>residencia</th>\n",
       "    </tr>\n",
       "  </thead>\n",
       "  <tbody>\n",
       "    <tr>\n",
       "      <th>0</th>\n",
       "      <td>2017-04-06 00:00:00.0000000</td>\n",
       "      <td>VIOLENCIA MORAL</td>\n",
       "      <td>Vítima</td>\n",
       "      <td>Não Informado</td>\n",
       "      <td>Feminino</td>\n",
       "      <td>Não Informado</td>\n",
       "      <td>entre 15 e 19 anos</td>\n",
       "      <td>Não Informado</td>\n",
       "      <td>Masculino</td>\n",
       "      <td>Não Informado</td>\n",
       "      <td>entre 30 e 34 anos</td>\n",
       "      <td>INJÚRIA</td>\n",
       "      <td>Não Informado</td>\n",
       "      <td>Não Informado</td>\n",
       "      <td>Não Informado</td>\n",
       "    </tr>\n",
       "    <tr>\n",
       "      <th>1</th>\n",
       "      <td>2017-01-18 00:00:00.0000000</td>\n",
       "      <td>VIOLENCIA SEXUAL</td>\n",
       "      <td>Não Informado</td>\n",
       "      <td>Não Informado</td>\n",
       "      <td>Feminino</td>\n",
       "      <td>Não Informado</td>\n",
       "      <td>Não Informado</td>\n",
       "      <td>Não Informado</td>\n",
       "      <td>Masculino</td>\n",
       "      <td>Não Informado</td>\n",
       "      <td>Não Informado</td>\n",
       "      <td>ESTUPRO</td>\n",
       "      <td>Não Informado</td>\n",
       "      <td>Não Informado</td>\n",
       "      <td>Não Informado</td>\n",
       "    </tr>\n",
       "    <tr>\n",
       "      <th>2</th>\n",
       "      <td>2017-05-31 00:00:00.0000000</td>\n",
       "      <td>VIOLENCIA SEXUAL</td>\n",
       "      <td>Não Informado</td>\n",
       "      <td>Não Informado</td>\n",
       "      <td>Feminino</td>\n",
       "      <td>Não Informado</td>\n",
       "      <td>Não Informado</td>\n",
       "      <td>Não Informado</td>\n",
       "      <td>Masculino</td>\n",
       "      <td>Não Informado</td>\n",
       "      <td>Não Informado</td>\n",
       "      <td>ESTUPRO</td>\n",
       "      <td>RJ</td>\n",
       "      <td>MESQUITA</td>\n",
       "      <td>Não Informado</td>\n",
       "    </tr>\n",
       "    <tr>\n",
       "      <th>3</th>\n",
       "      <td>2017-02-17 00:00:00.0000000</td>\n",
       "      <td>CARCERE PRIVADO</td>\n",
       "      <td>Não Informado</td>\n",
       "      <td>Não Informado</td>\n",
       "      <td>Feminino</td>\n",
       "      <td>Não Informado</td>\n",
       "      <td>Não Informado</td>\n",
       "      <td>Não Informado</td>\n",
       "      <td>Masculino</td>\n",
       "      <td>Não Informado</td>\n",
       "      <td>Não Informado</td>\n",
       "      <td>CÁRCERE PRIVADO</td>\n",
       "      <td>Não Informado</td>\n",
       "      <td>Não Informado</td>\n",
       "      <td>Não Informado</td>\n",
       "    </tr>\n",
       "    <tr>\n",
       "      <th>4</th>\n",
       "      <td>2017-07-07 00:00:00.0000000</td>\n",
       "      <td>VIOLENCIA FISICA</td>\n",
       "      <td>Filho(a)/Enteado(a)</td>\n",
       "      <td>Não Informado</td>\n",
       "      <td>Feminino</td>\n",
       "      <td>Não Informado</td>\n",
       "      <td>Não Informado</td>\n",
       "      <td>Companheiro</td>\n",
       "      <td>Masculino</td>\n",
       "      <td>Não Informado</td>\n",
       "      <td>Não Informado</td>\n",
       "      <td>LESÃO CORPORAL LEVE</td>\n",
       "      <td>Não Informado</td>\n",
       "      <td>Não Informado</td>\n",
       "      <td>Não Informado</td>\n",
       "    </tr>\n",
       "    <tr>\n",
       "      <th>...</th>\n",
       "      <td>...</td>\n",
       "      <td>...</td>\n",
       "      <td>...</td>\n",
       "      <td>...</td>\n",
       "      <td>...</td>\n",
       "      <td>...</td>\n",
       "      <td>...</td>\n",
       "      <td>...</td>\n",
       "      <td>...</td>\n",
       "      <td>...</td>\n",
       "      <td>...</td>\n",
       "      <td>...</td>\n",
       "      <td>...</td>\n",
       "      <td>...</td>\n",
       "      <td>...</td>\n",
       "    </tr>\n",
       "    <tr>\n",
       "      <th>155891</th>\n",
       "      <td>2017-04-15 00:00:00.0000000</td>\n",
       "      <td>VIOLENCIA FISICA</td>\n",
       "      <td>Vítima</td>\n",
       "      <td>Não Informado</td>\n",
       "      <td>Feminino</td>\n",
       "      <td>Preta</td>\n",
       "      <td>entre 20 e 24 anos</td>\n",
       "      <td>Companheiro</td>\n",
       "      <td>Masculino</td>\n",
       "      <td>Não Informado</td>\n",
       "      <td>Não Informado</td>\n",
       "      <td>Não Informado</td>\n",
       "      <td>MT</td>\n",
       "      <td>PARANAITA</td>\n",
       "      <td>Zona Urbana</td>\n",
       "    </tr>\n",
       "    <tr>\n",
       "      <th>155892</th>\n",
       "      <td>2017-08-01 00:00:00.0000000</td>\n",
       "      <td>VIOLENCIA PSICOLOGICA</td>\n",
       "      <td>Conhecido(a)</td>\n",
       "      <td>Não Informado</td>\n",
       "      <td>Feminino</td>\n",
       "      <td>Não Informado</td>\n",
       "      <td>Não Informado</td>\n",
       "      <td>Não Informado</td>\n",
       "      <td>Masculino</td>\n",
       "      <td>Não Informado</td>\n",
       "      <td>Não Informado</td>\n",
       "      <td>Não Informado</td>\n",
       "      <td>SC</td>\n",
       "      <td>BLUMENAU</td>\n",
       "      <td>Não Informado</td>\n",
       "    </tr>\n",
       "    <tr>\n",
       "      <th>155893</th>\n",
       "      <td>2017-05-04 00:00:00.0000000</td>\n",
       "      <td>VIOLENCIA FISICA</td>\n",
       "      <td>Não Informado</td>\n",
       "      <td>Não Informado</td>\n",
       "      <td>Não Informado</td>\n",
       "      <td>Não Informado</td>\n",
       "      <td>Não Informado</td>\n",
       "      <td>Não Informado</td>\n",
       "      <td>Não Informado</td>\n",
       "      <td>Não Informado</td>\n",
       "      <td>Não Informado</td>\n",
       "      <td>Não Informado</td>\n",
       "      <td>Não Informado</td>\n",
       "      <td>Não Informado</td>\n",
       "      <td>Não Informado</td>\n",
       "    </tr>\n",
       "    <tr>\n",
       "      <th>155894</th>\n",
       "      <td>2017-03-05 00:00:00.0000000</td>\n",
       "      <td>VIOLENCIA PSICOLOGICA</td>\n",
       "      <td>Vítima</td>\n",
       "      <td>Não Informado</td>\n",
       "      <td>Feminino</td>\n",
       "      <td>Parda</td>\n",
       "      <td>entre 40 e 44 anos</td>\n",
       "      <td>Companheiro</td>\n",
       "      <td>Masculino</td>\n",
       "      <td>Não Informado</td>\n",
       "      <td>Não Informado</td>\n",
       "      <td>Não Informado</td>\n",
       "      <td>SP</td>\n",
       "      <td>JACAREI</td>\n",
       "      <td>Zona Urbana</td>\n",
       "    </tr>\n",
       "    <tr>\n",
       "      <th>155895</th>\n",
       "      <td>2017-12-18 00:00:00.0000000</td>\n",
       "      <td>VIOLENCIA PSICOLOGICA</td>\n",
       "      <td>Companheiro</td>\n",
       "      <td>Não Informado</td>\n",
       "      <td>Não Informado</td>\n",
       "      <td>Não Informado</td>\n",
       "      <td>Não Informado</td>\n",
       "      <td>Não Informado</td>\n",
       "      <td>Não Informado</td>\n",
       "      <td>Não Informado</td>\n",
       "      <td>Não Informado</td>\n",
       "      <td>Não Informado</td>\n",
       "      <td>MG</td>\n",
       "      <td>DIVINOPOLIS</td>\n",
       "      <td>Não Informado</td>\n",
       "    </tr>\n",
       "  </tbody>\n",
       "</table>\n",
       "<p>155896 rows × 15 columns</p>\n",
       "</div>"
      ],
      "text/plain": [
       "                   data_atendimento         tipo_violencia  \\\n",
       "0       2017-04-06 00:00:00.0000000        VIOLENCIA MORAL   \n",
       "1       2017-01-18 00:00:00.0000000       VIOLENCIA SEXUAL   \n",
       "2       2017-05-31 00:00:00.0000000       VIOLENCIA SEXUAL   \n",
       "3       2017-02-17 00:00:00.0000000        CARCERE PRIVADO   \n",
       "4       2017-07-07 00:00:00.0000000       VIOLENCIA FISICA   \n",
       "...                             ...                    ...   \n",
       "155891  2017-04-15 00:00:00.0000000       VIOLENCIA FISICA   \n",
       "155892  2017-08-01 00:00:00.0000000  VIOLENCIA PSICOLOGICA   \n",
       "155893  2017-05-04 00:00:00.0000000       VIOLENCIA FISICA   \n",
       "155894  2017-03-05 00:00:00.0000000  VIOLENCIA PSICOLOGICA   \n",
       "155895  2017-12-18 00:00:00.0000000  VIOLENCIA PSICOLOGICA   \n",
       "\n",
       "                denunciante dependencia_financeira_vitima    sexo_vitima  \\\n",
       "0                    Vítima                 Não Informado       Feminino   \n",
       "1             Não Informado                 Não Informado       Feminino   \n",
       "2             Não Informado                 Não Informado       Feminino   \n",
       "3             Não Informado                 Não Informado       Feminino   \n",
       "4       Filho(a)/Enteado(a)                 Não Informado       Feminino   \n",
       "...                     ...                           ...            ...   \n",
       "155891               Vítima                 Não Informado       Feminino   \n",
       "155892         Conhecido(a)                 Não Informado       Feminino   \n",
       "155893        Não Informado                 Não Informado  Não Informado   \n",
       "155894               Vítima                 Não Informado       Feminino   \n",
       "155895          Companheiro                 Não Informado  Não Informado   \n",
       "\n",
       "           cor_vitima faixa_etaria_vitima relacao_agressor_contexto  \\\n",
       "0       Não Informado  entre 15 e 19 anos             Não Informado   \n",
       "1       Não Informado       Não Informado             Não Informado   \n",
       "2       Não Informado       Não Informado             Não Informado   \n",
       "3       Não Informado       Não Informado             Não Informado   \n",
       "4       Não Informado       Não Informado               Companheiro   \n",
       "...               ...                 ...                       ...   \n",
       "155891          Preta  entre 20 e 24 anos               Companheiro   \n",
       "155892  Não Informado       Não Informado             Não Informado   \n",
       "155893  Não Informado       Não Informado             Não Informado   \n",
       "155894          Parda  entre 40 e 44 anos               Companheiro   \n",
       "155895  Não Informado       Não Informado             Não Informado   \n",
       "\n",
       "        sexo_agressor   cor_agressor faixa_etaria_agressor  \\\n",
       "0           Masculino  Não Informado    entre 30 e 34 anos   \n",
       "1           Masculino  Não Informado         Não Informado   \n",
       "2           Masculino  Não Informado         Não Informado   \n",
       "3           Masculino  Não Informado         Não Informado   \n",
       "4           Masculino  Não Informado         Não Informado   \n",
       "...               ...            ...                   ...   \n",
       "155891      Masculino  Não Informado         Não Informado   \n",
       "155892      Masculino  Não Informado         Não Informado   \n",
       "155893  Não Informado  Não Informado         Não Informado   \n",
       "155894      Masculino  Não Informado         Não Informado   \n",
       "155895  Não Informado  Não Informado         Não Informado   \n",
       "\n",
       "                  violencia             uf      municipio     residencia  \n",
       "0                   INJÚRIA  Não Informado  Não Informado  Não Informado  \n",
       "1                   ESTUPRO  Não Informado  Não Informado  Não Informado  \n",
       "2                   ESTUPRO            RJ        MESQUITA  Não Informado  \n",
       "3           CÁRCERE PRIVADO  Não Informado  Não Informado  Não Informado  \n",
       "4       LESÃO CORPORAL LEVE  Não Informado  Não Informado  Não Informado  \n",
       "...                     ...            ...            ...            ...  \n",
       "155891        Não Informado            MT       PARANAITA    Zona Urbana  \n",
       "155892        Não Informado            SC        BLUMENAU  Não Informado  \n",
       "155893        Não Informado  Não Informado  Não Informado  Não Informado  \n",
       "155894        Não Informado            SP         JACAREI    Zona Urbana  \n",
       "155895        Não Informado            MG     DIVINOPOLIS  Não Informado  \n",
       "\n",
       "[155896 rows x 15 columns]"
      ]
     },
     "execution_count": 8,
     "metadata": {},
     "output_type": "execute_result"
    }
   ],
   "source": [
    "#Substituindo valor nulo por não informado\n",
    "tabela2017.fillna(value='Não Informado')"
   ]
  },
  {
   "cell_type": "markdown",
   "metadata": {},
   "source": [
    "Tratamento da base 2018"
   ]
  },
  {
   "cell_type": "code",
   "execution_count": 9,
   "metadata": {},
   "outputs": [
    {
     "data": {
      "text/plain": [
       "Index(['data_atendimento', 'tipo_atendimento', 'grupo_violacao',\n",
       "       'sub_grupo_violacao', 'data_cenario', 'hora_cenario', 'cenario_local',\n",
       "       'cenario_ocorrencia', 'relacao_demandante', 'relacao_suspeito',\n",
       "       'vitima_cod_municipio', 'vitima_municipio', 'vitima_uf',\n",
       "       'vitima_faixa_etaria', 'vitima_estado_civil', 'vitima_sexo',\n",
       "       'vitima_escolaridade', 'vitima_identidade_genero', 'vitima_cor_raca',\n",
       "       'vitima_orientacao_sexual', 'suspeito_pf_cod_municipio',\n",
       "       'suspeito_pf_municipio', 'suspeito_pf_uf', 'suspeito_pf_faixa_etaria',\n",
       "       'suspeito_pf_estado_civil', 'suspeito_pf_sexo',\n",
       "       'suspeito_pf_escolaridade', 'suspeito_pf_identidade_genero',\n",
       "       'suspeito_pf_cor_raca', 'suspeito_pf_orientacao_sexual',\n",
       "       'suspeito_pj_cod_municipio', 'suspeito_pj_municipio', 'suspeito_pj_uf',\n",
       "       'suspeito_pj_qualificacao_juridica', 'violacoes'],\n",
       "      dtype='object')"
      ]
     },
     "execution_count": 9,
     "metadata": {},
     "output_type": "execute_result"
    }
   ],
   "source": [
    "tabela2018.columns"
   ]
  },
  {
   "cell_type": "code",
   "execution_count": 10,
   "metadata": {},
   "outputs": [],
   "source": [
    "# Excluir as colunas que não são interessantes\n",
    "\n",
    "# Listar as colunas que contêm a palavra 'drop'\n",
    "columns_to_drop1 = [\n",
    "    'tipo_atendimento',\n",
    "    'sub_grupo_violacao',\n",
    "    'data_cenario',\n",
    "    'hora_cenario',\n",
    "    'cenario_local',\n",
    "    'cenario_ocorrencia',\n",
    "    'vitima_cod_municipio',\n",
    "    'vitima_estado_civil',\n",
    "    'vitima_escolaridade',\n",
    "    'suspeito_pf_cod_municipio',\n",
    "    'suspeito_pf_municipio',\n",
    "    'suspeito_pf_uf',\n",
    "    'suspeito_pf_estado_civil',\n",
    "    'suspeito_pf_escolaridade',\n",
    "    'suspeito_pj_cod_municipio',\n",
    "    'suspeito_pj_municipio',\n",
    "    'suspeito_pj_uf',\n",
    "    'suspeito_pj_qualificacao_juridica'\n",
    "]\n",
    "\n",
    "# Remover as colunas especificadas\n",
    "tabela_2018 = tabela2018.drop(columns=columns_to_drop1)"
   ]
  },
  {
   "cell_type": "code",
   "execution_count": 11,
   "metadata": {},
   "outputs": [],
   "source": [
    "#Substituir os nomes das colunas para ficar iguais aos da tabela 2017\n",
    "\n",
    "rename_dict = {\n",
    "    'grupo_violacao': 'tipo_violencia',\n",
    "    'relacao_demandante': 'denunciante',\n",
    "    'relacao_suspeito': 'relacao_agressor_contexto',\n",
    "    'vitima_municipio': 'município',\n",
    "    'vitima_uf': 'uf',\n",
    "    'vitima_faixa_etaria': 'faixa_etaria_vitima',\n",
    "    'vitima_sexo': 'sexo_vitima',\n",
    "    'vitima_identidade_genero': 'identidade_genero_vitima',\n",
    "    'vitima_cor_raca': 'cor_vitima',\n",
    "    'vitima_orientacao_sexual': 'orientacao_sexual_vitima',\n",
    "    'suspeito_pf_faixa_etaria': 'faixa_etaria_agressor',\n",
    "    'suspeito_pf_sexo': 'sexo_agressor',\n",
    "    'suspeito_pf_identidade_genero': 'identidade_genero_agressor',\n",
    "    'suspeito_pf_cor_raca': 'cor_agressor',\n",
    "    'suspeito_pf_orientacao_sexual': 'orientacao_sexual_agressor',\n",
    "    'violacoes': 'violencia'\n",
    "}\n",
    "\n",
    "# Renomear as colunas\n",
    "tabela_2018 = tabela_2018.rename(columns=rename_dict)"
   ]
  },
  {
   "cell_type": "code",
   "execution_count": 12,
   "metadata": {},
   "outputs": [
    {
     "data": {
      "text/plain": [
       "Index(['data_atendimento', 'tipo_violencia', 'denunciante',\n",
       "       'relacao_agressor_contexto', 'município', 'uf', 'faixa_etaria_vitima',\n",
       "       'sexo_vitima', 'identidade_genero_vitima', 'cor_vitima',\n",
       "       'orientacao_sexual_vitima', 'faixa_etaria_agressor', 'sexo_agressor',\n",
       "       'identidade_genero_agressor', 'cor_agressor',\n",
       "       'orientacao_sexual_agressor', 'violencia'],\n",
       "      dtype='object')"
      ]
     },
     "execution_count": 12,
     "metadata": {},
     "output_type": "execute_result"
    }
   ],
   "source": [
    "tabela_2018.columns"
   ]
  },
  {
   "cell_type": "code",
   "execution_count": 13,
   "metadata": {},
   "outputs": [
    {
     "name": "stdout",
     "output_type": "stream",
     "text": [
      "<class 'pandas.core.frame.DataFrame'>\n",
      "RangeIndex: 22386 entries, 0 to 22385\n",
      "Data columns (total 17 columns):\n",
      " #   Column                      Non-Null Count  Dtype \n",
      "---  ------                      --------------  ----- \n",
      " 0   data_atendimento            22386 non-null  object\n",
      " 1   tipo_violencia              22386 non-null  object\n",
      " 2   denunciante                 22386 non-null  object\n",
      " 3   relacao_agressor_contexto   22386 non-null  object\n",
      " 4   município                   22386 non-null  object\n",
      " 5   uf                          22333 non-null  object\n",
      " 6   faixa_etaria_vitima         22386 non-null  object\n",
      " 7   sexo_vitima                 22386 non-null  object\n",
      " 8   identidade_genero_vitima    22383 non-null  object\n",
      " 9   cor_vitima                  22386 non-null  object\n",
      " 10  orientacao_sexual_vitima    22386 non-null  object\n",
      " 11  faixa_etaria_agressor       22386 non-null  object\n",
      " 12  sexo_agressor               22265 non-null  object\n",
      " 13  identidade_genero_agressor  22386 non-null  object\n",
      " 14  cor_agressor                22265 non-null  object\n",
      " 15  orientacao_sexual_agressor  22265 non-null  object\n",
      " 16  violencia                   22306 non-null  object\n",
      "dtypes: object(17)\n",
      "memory usage: 2.9+ MB\n"
     ]
    }
   ],
   "source": [
    "tabela_2018.info()"
   ]
  },
  {
   "cell_type": "code",
   "execution_count": 14,
   "metadata": {},
   "outputs": [],
   "source": [
    "# Transformando a coluna de data de objeto para datatime\n",
    "\n",
    "tabela_2018['data_atendimento'] = pd.to_datetime(tabela_2018['data_atendimento'])"
   ]
  },
  {
   "cell_type": "code",
   "execution_count": 15,
   "metadata": {},
   "outputs": [
    {
     "name": "stdout",
     "output_type": "stream",
     "text": [
      "<class 'pandas.core.frame.DataFrame'>\n",
      "RangeIndex: 22386 entries, 0 to 22385\n",
      "Data columns (total 17 columns):\n",
      " #   Column                      Non-Null Count  Dtype         \n",
      "---  ------                      --------------  -----         \n",
      " 0   data_atendimento            22386 non-null  datetime64[ns]\n",
      " 1   tipo_violencia              22386 non-null  object        \n",
      " 2   denunciante                 22386 non-null  object        \n",
      " 3   relacao_agressor_contexto   22386 non-null  object        \n",
      " 4   município                   22386 non-null  object        \n",
      " 5   uf                          22333 non-null  object        \n",
      " 6   faixa_etaria_vitima         22386 non-null  object        \n",
      " 7   sexo_vitima                 22386 non-null  object        \n",
      " 8   identidade_genero_vitima    22383 non-null  object        \n",
      " 9   cor_vitima                  22386 non-null  object        \n",
      " 10  orientacao_sexual_vitima    22386 non-null  object        \n",
      " 11  faixa_etaria_agressor       22386 non-null  object        \n",
      " 12  sexo_agressor               22265 non-null  object        \n",
      " 13  identidade_genero_agressor  22386 non-null  object        \n",
      " 14  cor_agressor                22265 non-null  object        \n",
      " 15  orientacao_sexual_agressor  22265 non-null  object        \n",
      " 16  violencia                   22306 non-null  object        \n",
      "dtypes: datetime64[ns](1), object(16)\n",
      "memory usage: 2.9+ MB\n"
     ]
    }
   ],
   "source": [
    "tabela_2018.info()"
   ]
  },
  {
   "cell_type": "markdown",
   "metadata": {},
   "source": [
    "Tratando a Base 20181"
   ]
  },
  {
   "cell_type": "code",
   "execution_count": 16,
   "metadata": {},
   "outputs": [
    {
     "data": {
      "text/plain": [
       "Index(['data_atendimento', 'tipo_violencia', 'violencia_familiar',\n",
       "       'denunciante', 'filhos_vitima', 'dependencia_financeira_vitima',\n",
       "       'sexo_vitima', 'cor_vitima', 'faixa_etaria_vitima',\n",
       "       'escolaridade_vitima', 'frequenci_violencia', 'coabitacao_contexto',\n",
       "       'tempo_violencia_contexto', 'risco_contexto',\n",
       "       'relacao_agressor_contexto', 'sexo_agressor', 'cor_agressor',\n",
       "       'faixa_etaria_agressor', 'escolaridade_agressor',\n",
       "       'drogas_alcool_agressor', 'comportamento_efeito_agressor',\n",
       "       'filhos_violencia', 'violencia', 'uf', 'municipio', 'residencia'],\n",
       "      dtype='object')"
      ]
     },
     "execution_count": 16,
     "metadata": {},
     "output_type": "execute_result"
    }
   ],
   "source": [
    "tabela20181.columns"
   ]
  },
  {
   "cell_type": "code",
   "execution_count": 17,
   "metadata": {},
   "outputs": [],
   "source": [
    "# Excluir as colunas que não são interessantes\n",
    "\n",
    "# Listar as colunas que contêm a palavra 'drop'\n",
    "columns_to_drop2 = [\n",
    "   'violencia_familiar',\n",
    "   'filhos_vitima',\n",
    "   'dependencia_financeira_vitima',\n",
    "   'escolaridade_vitima',\n",
    "   'frequenci_violencia',\n",
    "   'coabitacao_contexto',\n",
    "   'tempo_violencia_contexto',\n",
    "   'risco_contexto',\n",
    "   'escolaridade_agressor',\n",
    "   'drogas_alcool_agressor',\n",
    "   'comportamento_efeito_agressor',\n",
    "   'filhos_violencia',\n",
    "   'residencia'\n",
    "]\n",
    "\n",
    "# Remover as colunas especificadas\n",
    "tabela_20181 = tabela20181.drop(columns=columns_to_drop2)"
   ]
  },
  {
   "cell_type": "code",
   "execution_count": 18,
   "metadata": {},
   "outputs": [
    {
     "name": "stdout",
     "output_type": "stream",
     "text": [
      "<class 'pandas.core.frame.DataFrame'>\n",
      "RangeIndex: 106271 entries, 0 to 106270\n",
      "Data columns (total 13 columns):\n",
      " #   Column                     Non-Null Count   Dtype \n",
      "---  ------                     --------------   ----- \n",
      " 0   data_atendimento           106271 non-null  object\n",
      " 1   tipo_violencia             106271 non-null  object\n",
      " 2   denunciante                98415 non-null   object\n",
      " 3   sexo_vitima                101510 non-null  object\n",
      " 4   cor_vitima                 73494 non-null   object\n",
      " 5   faixa_etaria_vitima        83556 non-null   object\n",
      " 6   relacao_agressor_contexto  90570 non-null   object\n",
      " 7   sexo_agressor              98192 non-null   object\n",
      " 8   cor_agressor               63306 non-null   object\n",
      " 9   faixa_etaria_agressor      68868 non-null   object\n",
      " 10  violencia                  98910 non-null   object\n",
      " 11  uf                         89850 non-null   object\n",
      " 12  municipio                  89850 non-null   object\n",
      "dtypes: object(13)\n",
      "memory usage: 10.5+ MB\n"
     ]
    }
   ],
   "source": [
    "tabela_20181.info()"
   ]
  },
  {
   "cell_type": "code",
   "execution_count": 19,
   "metadata": {},
   "outputs": [],
   "source": [
    "#Substituir os nomes das colunas para ficar iguais aos da tabela 2017\n",
    "\n",
    "rename_dict = {\n",
    "    'municipio': 'município'\n",
    "}\n",
    "\n",
    "# Renomear as colunas\n",
    "tabela_2018 = tabela_2018.rename(columns=rename_dict)"
   ]
  },
  {
   "cell_type": "code",
   "execution_count": 20,
   "metadata": {},
   "outputs": [],
   "source": [
    "# Transformando a coluna de data de objeto para datatime\n",
    "\n",
    "tabela_20181['data_atendimento'] = pd.to_datetime(tabela_20181['data_atendimento'])"
   ]
  },
  {
   "cell_type": "markdown",
   "metadata": {},
   "source": [
    "Tratamento das Base 2019"
   ]
  },
  {
   "cell_type": "code",
   "execution_count": 21,
   "metadata": {},
   "outputs": [
    {
     "data": {
      "text/plain": [
       "Index(['data_atendimento', 'tipo_atendimento', 'grupo_violacao',\n",
       "       'sub_grupo_violacao', 'data_cenario', 'hora_cenario', 'cenario_local',\n",
       "       'cenario_ocorrencia', 'relacao_demandante', 'relacao_suspeito',\n",
       "       'vitima_cod_municipio', 'vitima_municipio', 'vitima_uf',\n",
       "       'vitima_faixa_etaria', 'vitima_estado_civil', 'vitima_sexo',\n",
       "       'vitima_escolaridade', 'vitima_identidade_genero', 'vitima_cor_raca',\n",
       "       'vitima_orientacao_sexual', 'suspeito_pf_cod_municipio',\n",
       "       'suspeito_pf_municipio', 'suspeito_pf_uf', 'suspeito_pf_faixa_etaria',\n",
       "       'suspeito_pf_estado_civil', 'suspeito_pf_sexo',\n",
       "       'suspeito_pf_escolaridade', 'suspeito_pf_identidade_genero',\n",
       "       'suspeito_pf_cor_raca', 'suspeito_pf_orientacao_sexual',\n",
       "       'suspeito_pj_cod_municipio', 'suspeito_pj_municipio', 'suspeito_pj_uf',\n",
       "       'suspeito_pj_qualificacao_juridica', 'violacoes'],\n",
       "      dtype='object')"
      ]
     },
     "execution_count": 21,
     "metadata": {},
     "output_type": "execute_result"
    }
   ],
   "source": [
    "tabela2019.columns"
   ]
  },
  {
   "cell_type": "code",
   "execution_count": 22,
   "metadata": {},
   "outputs": [],
   "source": [
    "# Excluir as colunas que não são interessantes\n",
    "\n",
    "# Listar as colunas que contêm a palavra 'drop'\n",
    "columns_to_drop3 = [\n",
    "'sub_grupo_violacao', \n",
    "'data_cenario', \n",
    "'hora_cenario', \n",
    "'cenario_local',\n",
    "'cenario_ocorrencia', \n",
    "'vitima_cod_municipio', \n",
    "'vitima_estado_civil', \n",
    "'vitima_escolaridade',  \n",
    "'suspeito_pf_cod_municipio',\n",
    "'suspeito_pf_municipio', \n",
    "'suspeito_pf_uf', \n",
    "'suspeito_pf_estado_civil', \n",
    "'suspeito_pf_escolaridade', \n",
    "'suspeito_pj_cod_municipio', \n",
    "'suspeito_pj_qualificacao_juridica',\n",
    "'tipo_atendimento',\n",
    "'suspeito_pj_municipio', \n",
    "'suspeito_pj_uf',\n",
    "]\n",
    "\n",
    "# Remover as colunas especificadas\n",
    "tabela_2019 = tabela2019.drop(columns=columns_to_drop3)"
   ]
  },
  {
   "cell_type": "code",
   "execution_count": 23,
   "metadata": {},
   "outputs": [],
   "source": [
    "#Substituir os nomes das colunas para ficar iguais aos da tabela 2017\n",
    "\n",
    "rename_dict = {\n",
    "    'grupo_violacao': 'tipo_violencia',\n",
    "    'relacao_demandante': 'denunciante',\n",
    "    'relacao_suspeito': 'relacao_agressor_contexto',\n",
    "    'vitima_municipio': 'município',\n",
    "    'vitima_uf': 'uf',\n",
    "    'vitima_faixa_etaria': 'faixa_etaria_vitima',\n",
    "    'vitima_sexo': 'sexo_vitima',\n",
    "    'vitima_identidade_genero': 'identidade_genero_vitima',\n",
    "    'vitima_cor_raca': 'cor_vitima',\n",
    "    'vitima_orientacao_sexual': 'orientacao_sexual_vitima',\n",
    "    'suspeito_pf_faixa_etaria': 'faixa_etaria_agressor',\n",
    "    'suspeito_pf_sexo': 'sexo_agressor',\n",
    "    'suspeito_pf_identidade_genero': 'identidade_genero_agressor',\n",
    "    'suspeito_pf_cor_raca': 'cor_agressor',\n",
    "    'suspeito_pf_orientacao_sexual': 'orientacao_sexual_agressor',\n",
    "    'violacoes': 'violencia'\n",
    "}\n",
    "\n",
    "# Renomear as colunas\n",
    "tabela_2019 = tabela_2019.rename(columns=rename_dict)"
   ]
  },
  {
   "cell_type": "code",
   "execution_count": 24,
   "metadata": {},
   "outputs": [],
   "source": [
    "# Transformando a coluna de data de objeto para datatime\n",
    "\n",
    "tabela_2019['data_atendimento'] = pd.to_datetime(tabela_2019['data_atendimento'])"
   ]
  },
  {
   "cell_type": "markdown",
   "metadata": {},
   "source": [
    "Tratatando a Tabela 2020"
   ]
  },
  {
   "cell_type": "code",
   "execution_count": 25,
   "metadata": {},
   "outputs": [
    {
     "data": {
      "text/plain": [
       "Index(['hash_par_vitima_suspeito', 'Data_da_denúncia', 'Denunciante',\n",
       "       'relacao_demandante_vitima', 'Canal_de_atendimento',\n",
       "       'País_de_orígem_da_vítima', 'UF', 'Estado', 'Município',\n",
       "       'Cenário_da_violação', 'Grupo_vulnerável', 'Gênero_da_vítima',\n",
       "       'idade_vitima', 'Grau_instrução_da_vítima', 'Faixa_de_renda_da_vítima',\n",
       "       'Raça_cor_da_vítima', 'deficiencia_vitima', 'Gênero_do_suspeito',\n",
       "       'idade_suspeito', 'Grau_instrução_do_suspeito',\n",
       "       'Faixa_de_renda_do_suspeito', 'Raça_cor_do_suspeito',\n",
       "       'deficiencia_suspeito', 'Relação_Suspeito_x_Vítima',\n",
       "       'Denúncia_Emergencial', 'Nacionalidade_da_vítima',\n",
       "       'Nacionalidade_do_suspeito', 'País_de_orígem_do_suspeito',\n",
       "       'Etnia_da_vítima', 'Etnia_do_suspeito', 'violacoes', 'motivacoes',\n",
       "       'agravantes', 'orientacao_sexual'],\n",
       "      dtype='object')"
      ]
     },
     "execution_count": 25,
     "metadata": {},
     "output_type": "execute_result"
    }
   ],
   "source": [
    "tabela2020.columns"
   ]
  },
  {
   "cell_type": "code",
   "execution_count": 26,
   "metadata": {},
   "outputs": [],
   "source": [
    "# Excluir as colunas que não são interessantes\n",
    "\n",
    "# Listar as colunas que contêm a palavra 'drop'\n",
    "columns_to_drop4 = [\n",
    "'hash_par_vitima_suspeito', \n",
    "'relacao_demandante_vitima', \n",
    "'Canal_de_atendimento',\n",
    "'País_de_orígem_da_vítima', \n",
    "'Estado', \n",
    "'Cenário_da_violação',  \n",
    "'Grau_instrução_da_vítima', \n",
    "'Faixa_de_renda_da_vítima', \n",
    "'deficiencia_vitima', \n",
    "'Grau_instrução_do_suspeito',\n",
    "'Faixa_de_renda_do_suspeito', \n",
    "'deficiencia_suspeito', \n",
    "'Denúncia_Emergencial', \n",
    "'Nacionalidade_da_vítima',\n",
    "'Nacionalidade_do_suspeito', \n",
    "'País_de_orígem_do_suspeito',\n",
    "'Etnia_da_vítima', \n",
    "'Etnia_do_suspeito', \n",
    "'motivacoes',\n",
    "'agravantes',\n",
    "]\n",
    "\n",
    "# Remover as colunas especificadas\n",
    "tabela_2020 = tabela2020.drop(columns=columns_to_drop4)"
   ]
  },
  {
   "cell_type": "code",
   "execution_count": 27,
   "metadata": {},
   "outputs": [
    {
     "data": {
      "text/plain": [
       "Index(['Data_da_denúncia', 'Denunciante', 'UF', 'Município',\n",
       "       'Grupo_vulnerável', 'Gênero_da_vítima', 'idade_vitima',\n",
       "       'Raça_cor_da_vítima', 'Gênero_do_suspeito', 'idade_suspeito',\n",
       "       'Raça_cor_do_suspeito', 'Relação_Suspeito_x_Vítima', 'violacoes',\n",
       "       'orientacao_sexual'],\n",
       "      dtype='object')"
      ]
     },
     "execution_count": 27,
     "metadata": {},
     "output_type": "execute_result"
    }
   ],
   "source": [
    "tabela_2020.columns"
   ]
  },
  {
   "cell_type": "code",
   "execution_count": 28,
   "metadata": {},
   "outputs": [],
   "source": [
    "#Substituir os nomes das colunas para ficar iguais aos da tabela 2017\n",
    "\n",
    "rename_dict = {\n",
    "    'Data_da_denúncia': 'data_atendimento',\n",
    "    'Grupo_vulnerável': 'tipo_violencia',\n",
    "    'Denunciante': 'denunciante',\n",
    "    'Relação_Suspeito_x_Vítima': 'relacao_agressor_contexto',\n",
    "    'Município': 'município',\n",
    "    'UF': 'uf',\n",
    "    'idade_vitima': 'faixa_etaria_vitima',\n",
    "    'Gênero_da_vítima': 'sexo_vitima',\n",
    "    'Raça_cor_da_vítima': 'cor_vitima',\n",
    "    'orientacao_sexual': 'orientacao_sexual_vitima',\n",
    "    'idade_suspeito': 'faixa_etaria_agressor',\n",
    "    'suspeito_pf_sexo': 'sexo_agressor',\n",
    "    'Gênero_do_suspeito': 'identidade_genero_agressor',\n",
    "    'Raça_cor_do_suspeito': 'cor_agressor',\n",
    "    'violacoes': 'violencia'\n",
    "}\n",
    "\n",
    "# Renomear as colunas\n",
    "tabela_2020 = tabela_2020.rename(columns=rename_dict)"
   ]
  },
  {
   "cell_type": "code",
   "execution_count": 29,
   "metadata": {},
   "outputs": [],
   "source": [
    "# Transformando a coluna de data de objeto para datatime\n",
    "\n",
    "# tabela_2020['data_atendimento'] = pd.to_datetime(tabela_2020['data_atendimento'])\n",
    "\n",
    "tabela_2020['data_atendimento'] = pd.to_datetime(tabela_2020['data_atendimento'], format='%d/%m/%Y %H:%M')"
   ]
  },
  {
   "cell_type": "markdown",
   "metadata": {},
   "source": [
    "Tratando a Tabela 20201"
   ]
  },
  {
   "cell_type": "code",
   "execution_count": 30,
   "metadata": {},
   "outputs": [
    {
     "data": {
      "text/plain": [
       "Index(['hash', 'Data de cadastro', 'Canal de atendimento',\n",
       "       'Denúncia emergencial', 'Denunciante', 'Cenário da violação', 'País',\n",
       "       'UF', 'Município', 'Frequência', 'Início das violações',\n",
       "       'sl_quantidade_vitimas', 'Grupo vulnerável', 'Motivação',\n",
       "       'Relação vítima-suspeito', 'sl_vitima_cadastro', 'Gênero da vítima',\n",
       "       'Orientação sexual da vítima', 'Faixa etária da vítima',\n",
       "       'Nacionalidade da vítima', 'sl_vitima_naturalidade',\n",
       "       'sl_vitima_naturalizado_uf', 'sl_vitima_naturalizado_municipio',\n",
       "       'Deficiência da vítima', 'Doença rara da vítima',\n",
       "       'Deficiência relacionada a doença rara ?', 'Vítima preso(a)',\n",
       "       'País da vítima', 'UF da vítima', 'Município  da vítima',\n",
       "       'Profissão da vítima', 'Grau de instrução da vítima',\n",
       "       'Religião da vítima', 'Raça\\Cor da vítima', 'Etnia da vítima',\n",
       "       'Faixa de renda da vítima', 'Natureza Jurídica do Suspeito',\n",
       "       'Gênero do suspeito', 'Orientação sexual do suspeito',\n",
       "       'Faixa etária do suspeito', 'Suspeito nacionalidade',\n",
       "       'sl_suspeito_naturalidade', 'sl_suspeito_naturalizado_uf',\n",
       "       'sl_suspeito_naturalizado_municipio', 'Deficiência do suspeito',\n",
       "       'Doença rara do suspeito',\n",
       "       'Deficiência relacionada a doença rara (suspeito) ?', 'Suspeito preso',\n",
       "       'País do suspeito', 'UF do suspeito', 'sl_suspeito_municipio',\n",
       "       'Profissão do suspeito', 'Grau de instrução do suspeito',\n",
       "       'Religião do suspeito', 'Raça\\Cor do suspeito', 'Suspeito Etnia',\n",
       "       'Faixa de renda do suspeito', 'Vínculo Órgão\\PJ do suspeito',\n",
       "       'sl_suspeito_ramo', 'suspeito_especificacao_etnia',\n",
       "       'vitima_especificacao_etnia', 'violacao'],\n",
       "      dtype='object')"
      ]
     },
     "execution_count": 30,
     "metadata": {},
     "output_type": "execute_result"
    }
   ],
   "source": [
    "tabela20201.columns"
   ]
  },
  {
   "cell_type": "code",
   "execution_count": 31,
   "metadata": {},
   "outputs": [],
   "source": [
    "# Excluir as colunas que não são interessantes\n",
    "\n",
    "# Listar as colunas que contêm a palavra 'drop'\n",
    "columns_to_drop5 = [\n",
    "    'hash', \n",
    "    'Canal de atendimento',\n",
    "    'Denúncia emergencial',\n",
    "    'Cenário da violação', \n",
    "    'País',\n",
    "    'Frequência', \n",
    "    'Início das violações',\n",
    "    'sl_quantidade_vitimas', \n",
    "    'Motivação',\n",
    "    'sl_vitima_cadastro', \n",
    "    'Nacionalidade da vítima', \n",
    "    'sl_vitima_naturalidade',\n",
    "    'sl_vitima_naturalizado_uf', \n",
    "    'sl_vitima_naturalizado_municipio',\n",
    "    'Deficiência da vítima', \n",
    "    'Doença rara da vítima',\n",
    "    'Deficiência relacionada a doença rara ?', \n",
    "    'Vítima preso(a)',\n",
    "    'País da vítima', \n",
    "    'Grau de instrução da vítima',\n",
    "    'Religião da vítima',  \n",
    "    'Etnia da vítima',\n",
    "    'Faixa de renda da vítima', \n",
    "    'Natureza Jurídica do Suspeito',\n",
    "    'Suspeito nacionalidade',\n",
    "    'sl_suspeito_naturalidade', \n",
    "    'sl_suspeito_naturalizado_uf',\n",
    "    'sl_suspeito_naturalizado_municipio', \n",
    "    'Deficiência do suspeito',\n",
    "    'Doença rara do suspeito',\n",
    "    'Deficiência relacionada a doença rara (suspeito) ?', \n",
    "    'Suspeito preso',\n",
    "    'País do suspeito', \n",
    "    'Profissão do suspeito', \n",
    "    'Grau de instrução do suspeito',\n",
    "    'Religião do suspeito',  \n",
    "    'Suspeito Etnia',\n",
    "    'Faixa de renda do suspeito',\n",
    "    'sl_suspeito_ramo', \n",
    "    'suspeito_especificacao_etnia',\n",
    "    'UF do suspeito', \n",
    "    'sl_suspeito_municipio',\n",
    "    'UF da vítima',\n",
    "    'vitima_especificacao_etnia',\n",
    "    'Município  da vítima', \n",
    "    'Profissão da vítima', \n",
    "    ]\n",
    "\n",
    "# Remover as colunas especificadas\n",
    "tabela_20201 = tabela20201.drop(columns=columns_to_drop5)"
   ]
  },
  {
   "cell_type": "code",
   "execution_count": 32,
   "metadata": {},
   "outputs": [
    {
     "data": {
      "text/plain": [
       "Index(['Data de cadastro', 'Denunciante', 'UF', 'Município',\n",
       "       'Grupo vulnerável', 'Relação vítima-suspeito', 'Gênero da vítima',\n",
       "       'Orientação sexual da vítima', 'Faixa etária da vítima',\n",
       "       'Raça\\Cor da vítima', 'Gênero do suspeito',\n",
       "       'Orientação sexual do suspeito', 'Faixa etária do suspeito',\n",
       "       'Raça\\Cor do suspeito', 'Vínculo Órgão\\PJ do suspeito', 'violacao'],\n",
       "      dtype='object')"
      ]
     },
     "execution_count": 32,
     "metadata": {},
     "output_type": "execute_result"
    }
   ],
   "source": [
    "tabela_20201.columns"
   ]
  },
  {
   "cell_type": "code",
   "execution_count": 33,
   "metadata": {},
   "outputs": [],
   "source": [
    "#Substituir os nomes das colunas para ficar iguais aos da tabela 2017\n",
    "\n",
    "rename_dict = {\n",
    "    'Data de cadastro': 'data_atendimento',\n",
    "    'Denunciante': 'denunciante',\n",
    "    'UF': 'uf', \n",
    "    'Município': 'município',\n",
    "    'Grupo vulnerável': 'tipo_violencia',\n",
    "    'Relação vítima-suspeito': 'relacao_agressor_contexto',\n",
    "    'Gênero da vítima': 'sexo_vitima',\n",
    "    'Orientação sexual da vítima': 'orientacao_sexual_vitima',\n",
    "    'Faixa etária da vítima': 'faixa_etaria_vitima',\n",
    "    # 'Raça\\Cor da vítima': 'cor_vitima',\n",
    "    'Gênero do suspeito': 'sexo_agressor',\n",
    "    'Orientação sexual do suspeito': 'orientacao_sexual_agressor',\n",
    "    'Faixa etária do suspeito': 'faixa_etaria_agressor',\n",
    "    # 'Raça\\Cor do suspeito': 'cor_agressor',\n",
    "    # 'Vínculo Órgão\\PJ do suspeito': 'dropar',\n",
    "    'violacao': 'violencia',\n",
    "}\n",
    "\n",
    "# Renomear as colunas\n",
    "tabela_20201 = tabela_20201.rename(columns=rename_dict)"
   ]
  },
  {
   "cell_type": "code",
   "execution_count": 34,
   "metadata": {},
   "outputs": [],
   "source": [
    "# Codigo difrente para arrumar as colunas com barra\n",
    "tabela_20201.rename(columns={\n",
    "    'Raça\\\\Cor da vítima': 'cor_vitima',\n",
    "    'Raça\\\\Cor do suspeito': 'cor_agressor',\n",
    "    'Vínculo Órgão\\\\PJ do suspeito': 'dropar'\n",
    "}, inplace=True)\n"
   ]
  },
  {
   "cell_type": "code",
   "execution_count": 35,
   "metadata": {},
   "outputs": [],
   "source": [
    "# Transformando a coluna de data de objeto para datatime\n",
    "\n",
    "#tabela_2020['data_atendimento'] = pd.to_datetime(tabela_20201['data_atendimento'])\n",
    "\n",
    "tabela_20201['data_atendimento'] = pd.to_datetime(tabela_20201['data_atendimento'], format='%d/%m/%Y %H:%M')"
   ]
  },
  {
   "cell_type": "markdown",
   "metadata": {},
   "source": [
    "Tratando a tabela 2021 e 20211"
   ]
  },
  {
   "cell_type": "code",
   "execution_count": 36,
   "metadata": {},
   "outputs": [
    {
     "data": {
      "text/plain": [
       "Index(['hash', 'Data de cadastro', 'Canal de atendimento',\n",
       "       'Denúncia emergencial', 'Denunciante', 'Cenário da violação', 'País',\n",
       "       'UF', 'Município', 'Frequência', 'Início das violações',\n",
       "       'sl_quantidade_vitimas', 'Grupo vulnerável', 'Motivação',\n",
       "       'Relação vítima-suspeito', 'sl_vitima_cadastro', 'Gênero da vítima',\n",
       "       'Orientação sexual da vítima', 'Faixa etária da vítima',\n",
       "       'Nacionalidade da vítima', 'sl_vitima_naturalidade',\n",
       "       'sl_vitima_naturalizado_uf', 'sl_vitima_naturalizado_municipio',\n",
       "       'Deficiência da vítima', 'Doença rara da vítima',\n",
       "       'Deficiência relacionada a doença rara ?', 'Vítima preso(a)',\n",
       "       'País da vítima', 'UF da vítima', 'Município  da vítima',\n",
       "       'Profissão da vítima', 'Grau de instrução da vítima',\n",
       "       'Religião da vítima', 'Raça\\Cor da vítima', 'Etnia da vítima',\n",
       "       'Faixa de renda da vítima', 'Natureza Jurídica do Suspeito',\n",
       "       'Gênero do suspeito', 'Orientação sexual do suspeito',\n",
       "       'Faixa etária do suspeito', 'Suspeito nacionalidade',\n",
       "       'sl_suspeito_naturalidade', 'sl_suspeito_naturalizado_uf',\n",
       "       'sl_suspeito_naturalizado_municipio', 'Deficiência do suspeito',\n",
       "       'Doença rara do suspeito',\n",
       "       'Deficiência relacionada a doença rara (suspeito) ?', 'Suspeito preso',\n",
       "       'País do suspeito', 'UF do suspeito', 'sl_suspeito_municipio',\n",
       "       'Profissão do suspeito', 'Grau de instrução do suspeito',\n",
       "       'Religião do suspeito', 'Raça\\Cor do suspeito', 'Suspeito Etnia',\n",
       "       'Faixa de renda do suspeito', 'Vínculo Órgão\\PJ do suspeito',\n",
       "       'sl_suspeito_ramo', 'suspeito_especificacao_etnia',\n",
       "       'vitima_especificacao_etnia', 'violacao'],\n",
       "      dtype='object')"
      ]
     },
     "execution_count": 36,
     "metadata": {},
     "output_type": "execute_result"
    }
   ],
   "source": [
    "tabela2021.columns"
   ]
  },
  {
   "cell_type": "code",
   "execution_count": 37,
   "metadata": {},
   "outputs": [
    {
     "data": {
      "text/plain": [
       "Index(['hash', 'Data de cadastro', 'Canal de atendimento',\n",
       "       'Denúncia emergencial', 'Denunciante', 'Cenário da violação', 'País',\n",
       "       'UF', 'Município', 'Frequência', 'Início das violações',\n",
       "       'sl_quantidade_vitimas', 'Grupo vulnerável', 'Motivação',\n",
       "       'Relação vítima-suspeito', 'sl_vitima_cadastro', 'Gênero da vítima',\n",
       "       'Orientação sexual da vítima', 'Faixa etária da vítima',\n",
       "       'Nacionalidade da vítima', 'sl_vitima_naturalidade',\n",
       "       'sl_vitima_naturalizado_uf', 'sl_vitima_naturalizado_municipio',\n",
       "       'Deficiência da vítima', 'Doença rara da vítima',\n",
       "       'Deficiência relacionada a doença rara ?', 'Vítima preso(a)',\n",
       "       'País da vítima', 'UF da vítima', 'Município  da vítima',\n",
       "       'Profissão da vítima', 'Grau de instrução da vítima',\n",
       "       'Religião da vítima', 'Raça\\Cor da vítima', 'Etnia da vítima',\n",
       "       'Faixa de renda da vítima', 'Natureza Jurídica do Suspeito',\n",
       "       'Gênero do suspeito', 'Orientação sexual do suspeito',\n",
       "       'Faixa etária do suspeito', 'Suspeito nacionalidade',\n",
       "       'sl_suspeito_naturalidade', 'sl_suspeito_naturalizado_uf',\n",
       "       'sl_suspeito_naturalizado_municipio', 'Deficiência do suspeito',\n",
       "       'Doença rara do suspeito',\n",
       "       'Deficiência relacionada a doença rara (suspeito) ?', 'Suspeito preso',\n",
       "       'País do suspeito', 'UF do suspeito', 'sl_suspeito_municipio',\n",
       "       'Profissão do suspeito', 'Grau de instrução do suspeito',\n",
       "       'Religião do suspeito', 'Raça\\Cor do suspeito', 'Suspeito Etnia',\n",
       "       'Faixa de renda do suspeito', 'Vínculo Órgão\\PJ do suspeito',\n",
       "       'sl_suspeito_ramo', 'suspeito_especificacao_etnia',\n",
       "       'vitima_especificacao_etnia', 'violacao'],\n",
       "      dtype='object')"
      ]
     },
     "execution_count": 37,
     "metadata": {},
     "output_type": "execute_result"
    }
   ],
   "source": [
    "tabela20211.columns"
   ]
  },
  {
   "cell_type": "code",
   "execution_count": 38,
   "metadata": {},
   "outputs": [],
   "source": [
    "tabelas2021ofc = [\n",
    " tabela2021, tabela20211, \n",
    "]\n",
    "\n",
    "tabela_ofc_2021 = pd.concat(tabelas2021ofc, ignore_index=True)"
   ]
  },
  {
   "cell_type": "code",
   "execution_count": 39,
   "metadata": {},
   "outputs": [
    {
     "data": {
      "text/plain": [
       "Index(['hash', 'Data de cadastro', 'Canal de atendimento',\n",
       "       'Denúncia emergencial', 'Denunciante', 'Cenário da violação', 'País',\n",
       "       'UF', 'Município', 'Frequência', 'Início das violações',\n",
       "       'sl_quantidade_vitimas', 'Grupo vulnerável', 'Motivação',\n",
       "       'Relação vítima-suspeito', 'sl_vitima_cadastro', 'Gênero da vítima',\n",
       "       'Orientação sexual da vítima', 'Faixa etária da vítima',\n",
       "       'Nacionalidade da vítima', 'sl_vitima_naturalidade',\n",
       "       'sl_vitima_naturalizado_uf', 'sl_vitima_naturalizado_municipio',\n",
       "       'Deficiência da vítima', 'Doença rara da vítima',\n",
       "       'Deficiência relacionada a doença rara ?', 'Vítima preso(a)',\n",
       "       'País da vítima', 'UF da vítima', 'Município  da vítima',\n",
       "       'Profissão da vítima', 'Grau de instrução da vítima',\n",
       "       'Religião da vítima', 'Raça\\Cor da vítima', 'Etnia da vítima',\n",
       "       'Faixa de renda da vítima', 'Natureza Jurídica do Suspeito',\n",
       "       'Gênero do suspeito', 'Orientação sexual do suspeito',\n",
       "       'Faixa etária do suspeito', 'Suspeito nacionalidade',\n",
       "       'sl_suspeito_naturalidade', 'sl_suspeito_naturalizado_uf',\n",
       "       'sl_suspeito_naturalizado_municipio', 'Deficiência do suspeito',\n",
       "       'Doença rara do suspeito',\n",
       "       'Deficiência relacionada a doença rara (suspeito) ?', 'Suspeito preso',\n",
       "       'País do suspeito', 'UF do suspeito', 'sl_suspeito_municipio',\n",
       "       'Profissão do suspeito', 'Grau de instrução do suspeito',\n",
       "       'Religião do suspeito', 'Raça\\Cor do suspeito', 'Suspeito Etnia',\n",
       "       'Faixa de renda do suspeito', 'Vínculo Órgão\\PJ do suspeito',\n",
       "       'sl_suspeito_ramo', 'suspeito_especificacao_etnia',\n",
       "       'vitima_especificacao_etnia', 'violacao'],\n",
       "      dtype='object')"
      ]
     },
     "execution_count": 39,
     "metadata": {},
     "output_type": "execute_result"
    }
   ],
   "source": [
    "tabela_ofc_2021.columns"
   ]
  },
  {
   "cell_type": "code",
   "execution_count": 40,
   "metadata": {},
   "outputs": [
    {
     "data": {
      "text/plain": [
       "(430234, 62)"
      ]
     },
     "execution_count": 40,
     "metadata": {},
     "output_type": "execute_result"
    }
   ],
   "source": [
    "tabela_ofc_2021.shape"
   ]
  },
  {
   "cell_type": "code",
   "execution_count": 41,
   "metadata": {},
   "outputs": [],
   "source": [
    "# Excluir as colunas que não são interessantes\n",
    "\n",
    "# Listar as colunas que contêm a palavra 'drop'\n",
    "columns_to_drop7 = [\n",
    "    'hash',\n",
    "    'Canal de atendimento',\n",
    "    'Denúncia emergencial',\n",
    "    'Cenário da violação',\n",
    "    'País',\n",
    "    'Frequência',\n",
    "    'Início das violações',\n",
    "    'sl_quantidade_vitimas',\n",
    "    'Motivação',\n",
    "    'sl_vitima_cadastro',\n",
    "    'Nacionalidade da vítima',\n",
    "    'sl_vitima_naturalidade',\n",
    "    'sl_vitima_naturalizado_uf',\n",
    "    'sl_vitima_naturalizado_municipio',\n",
    "    'Deficiência da vítima',\n",
    "    'Doença rara da vítima',\n",
    "    'Deficiência relacionada a doença rara ?',\n",
    "    'Vítima preso(a)',\n",
    "    'País da vítima',\n",
    "    'UF da vítima',\n",
    "    'Município  da vítima',\n",
    "    'Profissão da vítima',\n",
    "    'Grau de instrução da vítima',\n",
    "    'Religião da vítima',\n",
    "    'Etnia da vítima',\n",
    "    'Faixa de renda da vítima',\n",
    "    'Natureza Jurídica do Suspeito',\n",
    "    'Suspeito nacionalidade',\n",
    "    'sl_suspeito_naturalidade',\n",
    "    'sl_suspeito_naturalizado_uf',\n",
    "    'sl_suspeito_naturalizado_municipio',\n",
    "    'Deficiência do suspeito',\n",
    "    'Doença rara do suspeito',\n",
    "    'Deficiência relacionada a doença rara (suspeito) ?',\n",
    "    'Suspeito preso',\n",
    "    'País do suspeito',\n",
    "    'UF do suspeito',\n",
    "    'sl_suspeito_municipio',\n",
    "    'Profissão do suspeito',\n",
    "    'Grau de instrução do suspeito',\n",
    "    'Religião do suspeito',\n",
    "    'Suspeito Etnia',\n",
    "    'Faixa de renda do suspeito',\n",
    "    'sl_suspeito_ramo',\n",
    "    'suspeito_especificacao_etnia',\n",
    "    'vitima_especificacao_etnia',\n",
    "    ]\n",
    "\n",
    "# Remover as colunas especificadas\n",
    "tabela_2021 = tabela_ofc_2021.drop(columns=columns_to_drop7)"
   ]
  },
  {
   "cell_type": "code",
   "execution_count": 42,
   "metadata": {},
   "outputs": [
    {
     "data": {
      "text/plain": [
       "(430234, 16)"
      ]
     },
     "execution_count": 42,
     "metadata": {},
     "output_type": "execute_result"
    }
   ],
   "source": [
    "tabela_2021.shape"
   ]
  },
  {
   "cell_type": "code",
   "execution_count": 43,
   "metadata": {},
   "outputs": [
    {
     "data": {
      "text/plain": [
       "Index(['Data de cadastro', 'Denunciante', 'UF', 'Município',\n",
       "       'Grupo vulnerável', 'Relação vítima-suspeito', 'Gênero da vítima',\n",
       "       'Orientação sexual da vítima', 'Faixa etária da vítima',\n",
       "       'Raça\\Cor da vítima', 'Gênero do suspeito',\n",
       "       'Orientação sexual do suspeito', 'Faixa etária do suspeito',\n",
       "       'Raça\\Cor do suspeito', 'Vínculo Órgão\\PJ do suspeito', 'violacao'],\n",
       "      dtype='object')"
      ]
     },
     "execution_count": 43,
     "metadata": {},
     "output_type": "execute_result"
    }
   ],
   "source": [
    "tabela_2021.columns"
   ]
  },
  {
   "cell_type": "code",
   "execution_count": 44,
   "metadata": {},
   "outputs": [],
   "source": [
    "#Substituir os nomes das colunas para ficar iguais aos da tabela 2017\n",
    "\n",
    "rename_dict = {\n",
    "    'Data de cadastro': 'data_atendimento',\n",
    "    'Denunciante': 'denunciante',\n",
    "    'UF': 'uf', \n",
    "    'Município': 'município',\n",
    "    'Grupo vulnerável': 'tipo_violencia',\n",
    "    'Relação vítima-suspeito': 'relacao_agressor_contexto',\n",
    "    'Gênero da vítima': 'sexo_vitima',\n",
    "    'Orientação sexual da vítima': 'orientacao_sexual_vitima',\n",
    "    'Faixa etária da vítima': 'faixa_etaria_vitima',\n",
    "    # 'Raça\\Cor da vítima': 'cor_vitima',\n",
    "    'Gênero do suspeito': 'sexo_agressor',\n",
    "    'Orientação sexual do suspeito': 'orientacao_sexual_agressor',\n",
    "    'Faixa etária do suspeito': 'faixa_etaria_agressor',\n",
    "    # 'Raça\\Cor do suspeito': 'cor_agressor',\n",
    "    # 'Vínculo Órgão\\PJ do suspeito': 'dropar',\n",
    "    'violacao': 'violencia',\n",
    "}\n",
    "\n",
    "# Renomear as colunas\n",
    "tabela_2021 = tabela_2021.rename(columns=rename_dict)"
   ]
  },
  {
   "cell_type": "code",
   "execution_count": 45,
   "metadata": {},
   "outputs": [],
   "source": [
    "# Codigo difrente para arrumar as colunas com barra\n",
    "tabela_2021.rename(columns={\n",
    "    'Raça\\\\Cor da vítima': 'cor_vitima',\n",
    "    'Raça\\\\Cor do suspeito': 'cor_agressor',\n",
    "    'Vínculo Órgão\\\\PJ do suspeito': 'dropar'\n",
    "}, inplace=True)"
   ]
  },
  {
   "cell_type": "code",
   "execution_count": 46,
   "metadata": {},
   "outputs": [
    {
     "data": {
      "text/plain": [
       "(430234, 16)"
      ]
     },
     "execution_count": 46,
     "metadata": {},
     "output_type": "execute_result"
    }
   ],
   "source": [
    "tabela_2021.shape"
   ]
  },
  {
   "cell_type": "code",
   "execution_count": 47,
   "metadata": {},
   "outputs": [
    {
     "data": {
      "text/plain": [
       "Index(['data_atendimento', 'denunciante', 'uf', 'município', 'tipo_violencia',\n",
       "       'relacao_agressor_contexto', 'sexo_vitima', 'orientacao_sexual_vitima',\n",
       "       'faixa_etaria_vitima', 'cor_vitima', 'sexo_agressor',\n",
       "       'orientacao_sexual_agressor', 'faixa_etaria_agressor', 'cor_agressor',\n",
       "       'dropar', 'violencia'],\n",
       "      dtype='object')"
      ]
     },
     "execution_count": 47,
     "metadata": {},
     "output_type": "execute_result"
    }
   ],
   "source": [
    "tabela_2021.columns"
   ]
  },
  {
   "cell_type": "code",
   "execution_count": 48,
   "metadata": {},
   "outputs": [],
   "source": [
    "# Transformando a coluna de data de objeto para datatime\n",
    "\n",
    "#tabela_2021['data_atendimento'] = pd.to_datetime(tabela_2021['data_atendimento'])\n",
    "\n",
    "tabela_2021['data_atendimento'] = pd.to_datetime(tabela_2021['data_atendimento'], format='%d/%m/%Y %H:%M')"
   ]
  },
  {
   "cell_type": "markdown",
   "metadata": {},
   "source": [
    "Tratando as bases 2022 e 20221"
   ]
  },
  {
   "cell_type": "code",
   "execution_count": 49,
   "metadata": {},
   "outputs": [
    {
     "data": {
      "text/plain": [
       "Index(['hash', 'Data de cadastro', 'Canal de atendimento',\n",
       "       'Denúncia emergencial', 'Denunciante', 'Cenário da violação', 'País',\n",
       "       'UF', 'Município', 'Frequência', 'Início das violações',\n",
       "       'sl_quantidade_vitimas', 'Grupo vulnerável', 'Motivação',\n",
       "       'Relação vítima-suspeito', 'sl_vitima_cadastro', 'Gênero da vítima',\n",
       "       'Orientação sexual da vítima', 'Faixa etária da vítima',\n",
       "       'Nacionalidade da vítima', 'sl_vitima_naturalidade',\n",
       "       'sl_vitima_naturalizado_uf', 'sl_vitima_naturalizado_municipio',\n",
       "       'Deficiência da vítima', 'Doença rara da vítima',\n",
       "       'Deficiência relacionada a doença rara ?', 'Vítima preso(a)',\n",
       "       'País da vítima', 'UF da vítima', 'Município  da vítima',\n",
       "       'Profissão da vítima', 'Grau de instrução da vítima',\n",
       "       'Religião da vítima', 'Raça\\Cor da vítima', 'Etnia da vítima',\n",
       "       'Faixa de renda da vítima', 'Natureza Jurídica do Suspeito',\n",
       "       'Gênero do suspeito', 'Orientação sexual do suspeito',\n",
       "       'Faixa etária do suspeito', 'Suspeito nacionalidade',\n",
       "       'sl_suspeito_naturalidade', 'sl_suspeito_naturalizado_uf',\n",
       "       'sl_suspeito_naturalizado_municipio', 'Deficiência do suspeito',\n",
       "       'Doença rara do suspeito',\n",
       "       'Deficiência relacionada a doença rara (suspeito) ?', 'Suspeito preso',\n",
       "       'País do suspeito', 'UF do suspeito', 'sl_suspeito_municipio',\n",
       "       'Profissão do suspeito', 'Grau de instrução do suspeito',\n",
       "       'Religião do suspeito', 'Raça\\Cor do suspeito', 'Suspeito Etnia',\n",
       "       'Faixa de renda do suspeito', 'Vínculo Órgão\\PJ do suspeito',\n",
       "       'sl_suspeito_ramo', 'suspeito_especificacao_etnia',\n",
       "       'vitima_especificacao_etnia', 'violacao'],\n",
       "      dtype='object')"
      ]
     },
     "execution_count": 49,
     "metadata": {},
     "output_type": "execute_result"
    }
   ],
   "source": [
    "tabela2022.columns"
   ]
  },
  {
   "cell_type": "code",
   "execution_count": 50,
   "metadata": {},
   "outputs": [],
   "source": [
    "columns_to_drop8 = [\n",
    "    'Canal de atendimento', \n",
    "    'Cenário da violação', \n",
    "    'Deficiência da vítima', \n",
    "    'Deficiência do suspeito', \n",
    "    'Deficiência relacionada a doença rara (suspeito) ?', \n",
    "    'Deficiência relacionada a doença rara ?', \n",
    "    'Denúncia emergencial', \n",
    "    'Doença rara da vítima', \n",
    "    'Doença rara do suspeito', \n",
    "    'Etnia da vítima', \n",
    "    'Faixa de renda da vítima', \n",
    "    'Faixa de renda do suspeito', \n",
    "    'Frequência',  \n",
    "    'Grau de instrução da vítima', \n",
    "    'Grau de instrução do suspeito', \n",
    "    'hash', \n",
    "    'Início das violações', \n",
    "    'Motivação', \n",
    "    'Município  da vítima',  \n",
    "    'Natureza Jurídica do Suspeito', \n",
    "    'Nacionalidade da vítima', \n",
    "    'País', \n",
    "    'País da vítima', \n",
    "    'País do suspeito', \n",
    "    'Profissão da vítima', \n",
    "    'Profissão do suspeito',  \n",
    "    'Religião da vítima', \n",
    "    'Religião do suspeito', \n",
    "    'sl_quantidade_vitimas', \n",
    "    'sl_suspeito_municipio', \n",
    "    'sl_suspeito_naturalidade', \n",
    "    'sl_suspeito_naturalizado_municipio', \n",
    "    'sl_suspeito_naturalizado_uf', \n",
    "    'sl_suspeito_ramo', \n",
    "    'sl_vitima_cadastro', \n",
    "    'sl_vitima_naturalidade', \n",
    "    'sl_vitima_naturalizado_municipio', \n",
    "    'sl_vitima_naturalizado_uf', \n",
    "    'Suspeito Etnia', \n",
    "    'Suspeito nacionalidade', \n",
    "    'Suspeito preso', \n",
    "    'suspeito_especificacao_etnia', \n",
    "    'Vínculo Órgão\\\\PJ do suspeito', \n",
    "    'Vítima preso(a)', \n",
    "    'vitima_especificacao_etnia', \n",
    "    'UF da vítima', \n",
    "    'UF do suspeito',\n",
    "    ]\n",
    "\n",
    "# Remover as colunas especificadas\n",
    "tabela_2022 = tabela2022.drop(columns=columns_to_drop8)\n"
   ]
  },
  {
   "cell_type": "code",
   "execution_count": 51,
   "metadata": {},
   "outputs": [
    {
     "data": {
      "text/plain": [
       "Index(['Data de cadastro', 'Denunciante', 'UF', 'Município',\n",
       "       'Grupo vulnerável', 'Relação vítima-suspeito', 'Gênero da vítima',\n",
       "       'Orientação sexual da vítima', 'Faixa etária da vítima',\n",
       "       'Raça\\Cor da vítima', 'Gênero do suspeito',\n",
       "       'Orientação sexual do suspeito', 'Faixa etária do suspeito',\n",
       "       'Raça\\Cor do suspeito', 'violacao'],\n",
       "      dtype='object')"
      ]
     },
     "execution_count": 51,
     "metadata": {},
     "output_type": "execute_result"
    }
   ],
   "source": [
    "tabela_2022.columns"
   ]
  },
  {
   "cell_type": "code",
   "execution_count": 52,
   "metadata": {},
   "outputs": [],
   "source": [
    "#Substituir os nomes das colunas para ficar iguais aos da tabela 2017\n",
    "\n",
    "rename_dict = {\n",
    "    'Data de cadastro': 'data_atendimento',\n",
    "    'Denunciante': 'denunciante',\n",
    "    'UF': 'uf',\n",
    "    'Grupo vulnerável':'tipo_violencia',\n",
    "    'Município': 'município',\n",
    "    'Relação vítima-suspeito': 'relacao_agressor_contexto',\n",
    "    'Gênero da vítima': 'sexo_vitima',\n",
    "    'Orientação sexual da vítima': 'orientacao_sexual_vitima',\n",
    "    'Raça\\\\Cor da vítima': 'cor_vitima',\n",
    "    'Gênero do suspeito': 'sexo_agressor',\n",
    "    'Orientação sexual do suspeito': 'orientacao_sexual_agressor',\n",
    "    'Raça\\\\Cor do suspeito': 'cor_agressor',\n",
    "    'Faixa etária da vítima': 'faixa_etaria_vitima',\n",
    "    'Faixa etária do suspeito': 'faixa_etaria_agressor',\n",
    "    'violacao': 'violencia',\n",
    "}\n",
    "\n",
    "# Renomear as colunas\n",
    "tabela_2022 = tabela_2022.rename(columns=rename_dict)\n"
   ]
  },
  {
   "cell_type": "code",
   "execution_count": 53,
   "metadata": {},
   "outputs": [
    {
     "data": {
      "text/plain": [
       "Index(['hash', 'Data_de_cadastro', 'Canal_de_atendimento',\n",
       "       'Denúncia_emergencial', 'Denunciante', 'Cenário_da_violação', 'País',\n",
       "       'UF', 'Município', 'Frequência', 'Início_das_violações',\n",
       "       'sl_quantidade_vitimas', 'Grupo_vulnerável', 'Motivação',\n",
       "       'Relação_vítima_suspeito', 'sl_vitima_cadastro', 'Gênero_da_vítima',\n",
       "       'Orientação_sexual_da_vítima', 'Faixa_etária_da_vítima',\n",
       "       'Nacionalidade_da_vítima', 'sl_vitima_naturalidade',\n",
       "       'sl_vitima_naturalizado_uf', 'sl_vitima_naturalizado_municipio',\n",
       "       'Deficiência_da_vítima', 'Doença_rara_da_vítima',\n",
       "       'Deficiência_relacionada_a_doença_rara', 'Vítima_preso_a',\n",
       "       'País_da_vítima', 'UF_da_vítima', 'Município_da_vítima',\n",
       "       'Profissão_da_vítima', 'Grau_de_instrução_da_vítima',\n",
       "       'Religião_da_vítima', 'Raça_Cor_da_vítima', 'Etnia_da_vítima',\n",
       "       'Faixa_de_renda_da_vítima', 'Natureza_Jurídica_do_Suspeito',\n",
       "       'Gênero_do_suspeito', 'Orientação_sexual_do_suspeito',\n",
       "       'Faixa_etária_do_suspeito', 'Suspeito_nacionalidade',\n",
       "       'sl_suspeito_naturalidade', 'sl_suspeito_naturalizado_uf',\n",
       "       'sl_suspeito_naturalizado_municipio', 'Deficiência_do_suspeito',\n",
       "       'Doença_rara_do_suspeito',\n",
       "       'Deficiência_relacionada_a_doença_rara_suspeito', 'Suspeito_preso',\n",
       "       'País_do_suspeito', 'UF_do_suspeito', 'sl_suspeito_municipio',\n",
       "       'Profissão_do_suspeito', 'Grau_de_instrução_do_suspeito',\n",
       "       'Religião_do_suspeito', 'Raça_Cor_do_suspeito', 'Suspeito_Etnia',\n",
       "       'Faixa_de_renda_do_suspeito', 'Vínculo_Órgão_PJ_do_suspeito',\n",
       "       'sl_suspeito_ramo', 'suspeito_especificacao_etnia',\n",
       "       'vitima_especificacao_etnia', 'violacao'],\n",
       "      dtype='object')"
      ]
     },
     "execution_count": 53,
     "metadata": {},
     "output_type": "execute_result"
    }
   ],
   "source": [
    "tabela20221.columns"
   ]
  },
  {
   "cell_type": "code",
   "execution_count": 54,
   "metadata": {},
   "outputs": [],
   "source": [
    "columns_to_drop9= [\n",
    "    'hash',\n",
    "    'Canal_de_atendimento',\n",
    "    'Denúncia_emergencial', \n",
    "    'Cenário_da_violação', \n",
    "    'País',\n",
    "    'Frequência', \n",
    "    'Início_das_violações',\n",
    "    'sl_quantidade_vitimas',  \n",
    "    'Motivação',\n",
    "    'sl_vitima_cadastro', \n",
    "    'Nacionalidade_da_vítima',\n",
    "    'sl_vitima_naturalidade',\n",
    "    'sl_vitima_naturalizado_uf', \n",
    "    'sl_vitima_naturalizado_municipio',\n",
    "    'Deficiência_da_vítima', \n",
    "    'Doença_rara_da_vítima',\n",
    "    'Deficiência_relacionada_a_doença_rara', \n",
    "    'Vítima_preso_a',\n",
    "    'País_da_vítima', \n",
    "    'UF_da_vítima', \n",
    "    'Município_da_vítima',\n",
    "    'Profissão_da_vítima', \n",
    "    'Grau_de_instrução_da_vítima',\n",
    "    'Religião_da_vítima', \n",
    "    'Etnia_da_vítima',\n",
    "    'Faixa_de_renda_da_vítima', \n",
    "    'Natureza_Jurídica_do_Suspeito',\n",
    "    'Suspeito_nacionalidade',\n",
    "    'sl_suspeito_naturalidade', \n",
    "    'sl_suspeito_naturalizado_uf',\n",
    "    'sl_suspeito_naturalizado_municipio', \n",
    "    'Deficiência_do_suspeito',\n",
    "    'Doença_rara_do_suspeito',\n",
    "    'Deficiência_relacionada_a_doença_rara_suspeito', \n",
    "    'Suspeito_preso',\n",
    "    'País_do_suspeito', \n",
    "    'UF_do_suspeito', \n",
    "    'sl_suspeito_municipio',\n",
    "    'Profissão_do_suspeito', \n",
    "    'Grau_de_instrução_do_suspeito',\n",
    "    'Religião_do_suspeito',\n",
    "    'Suspeito_Etnia',\n",
    "    'Faixa_de_renda_do_suspeito', \n",
    "    'Vínculo_Órgão_PJ_do_suspeito',\n",
    "    'sl_suspeito_ramo', \n",
    "    'suspeito_especificacao_etnia',\n",
    "    'vitima_especificacao_etnia',\n",
    "    ]\n",
    "\n",
    "# Remover as colunas especificadas\n",
    "tabela_20221 = tabela20221.drop(columns=columns_to_drop9)\n",
    "\n"
   ]
  },
  {
   "cell_type": "code",
   "execution_count": 55,
   "metadata": {},
   "outputs": [
    {
     "data": {
      "text/plain": [
       "Index(['Data_de_cadastro', 'Denunciante', 'UF', 'Município',\n",
       "       'Grupo_vulnerável', 'Relação_vítima_suspeito', 'Gênero_da_vítima',\n",
       "       'Orientação_sexual_da_vítima', 'Faixa_etária_da_vítima',\n",
       "       'Raça_Cor_da_vítima', 'Gênero_do_suspeito',\n",
       "       'Orientação_sexual_do_suspeito', 'Faixa_etária_do_suspeito',\n",
       "       'Raça_Cor_do_suspeito', 'violacao'],\n",
       "      dtype='object')"
      ]
     },
     "execution_count": 55,
     "metadata": {},
     "output_type": "execute_result"
    }
   ],
   "source": [
    "tabela_20221.columns"
   ]
  },
  {
   "cell_type": "code",
   "execution_count": 56,
   "metadata": {},
   "outputs": [],
   "source": [
    "#Substituir os nomes das colunas para ficar iguais aos da tabela 2017\n",
    "\n",
    "rename_dict = {\n",
    "    'Data_de_cadastro': 'data_atendimento',\n",
    "    'Denunciante': 'denunciante',\n",
    "    'UF': 'uf',\n",
    "    'Grupo_vulnerável':'tipo_violencia',\n",
    "    'Município': 'município',\n",
    "    'Relação_vítima_suspeito': 'relacao_agressor_contexto',\n",
    "    'Gênero_da_vítima': 'sexo_vitima',\n",
    "    'Orientação_sexual_da_vítima': 'orientacao_sexual_vitima',\n",
    "    'Raça_Cor_da_vítima': 'cor_vitima',\n",
    "    'Gênero_do_suspeito': 'sexo_agressor',\n",
    "    'Orientação_sexual_do_suspeito': 'orientacao_sexual_agressor',\n",
    "    'Raça_Cor_do_suspeito': 'cor_agressor',\n",
    "    'Faixa_etária_da vítima': 'faixa_etaria_vitima',\n",
    "    'Faixa_etária_do_suspeito': 'faixa_etaria_agressor',\n",
    "    'violacao': 'violencia',\n",
    "}\n",
    "\n",
    "# Renomear as colunas\n",
    "tabela_20221 = tabela_20221.rename(columns=rename_dict)"
   ]
  },
  {
   "cell_type": "code",
   "execution_count": 57,
   "metadata": {},
   "outputs": [
    {
     "data": {
      "text/plain": [
       "Index(['data_atendimento', 'denunciante', 'uf', 'município', 'tipo_violencia',\n",
       "       'relacao_agressor_contexto', 'sexo_vitima', 'orientacao_sexual_vitima',\n",
       "       'faixa_etaria_vitima', 'cor_vitima', 'sexo_agressor',\n",
       "       'orientacao_sexual_agressor', 'faixa_etaria_agressor', 'cor_agressor',\n",
       "       'violencia'],\n",
       "      dtype='object')"
      ]
     },
     "execution_count": 57,
     "metadata": {},
     "output_type": "execute_result"
    }
   ],
   "source": [
    "tabela_2022.columns"
   ]
  },
  {
   "cell_type": "code",
   "execution_count": 58,
   "metadata": {},
   "outputs": [
    {
     "data": {
      "text/plain": [
       "Index(['data_atendimento', 'denunciante', 'uf', 'município', 'tipo_violencia',\n",
       "       'relacao_agressor_contexto', 'sexo_vitima', 'orientacao_sexual_vitima',\n",
       "       'Faixa_etária_da_vítima', 'cor_vitima', 'sexo_agressor',\n",
       "       'orientacao_sexual_agressor', 'faixa_etaria_agressor', 'cor_agressor',\n",
       "       'violencia'],\n",
       "      dtype='object')"
      ]
     },
     "execution_count": 58,
     "metadata": {},
     "output_type": "execute_result"
    }
   ],
   "source": [
    "tabela_20221.columns"
   ]
  },
  {
   "cell_type": "code",
   "execution_count": 59,
   "metadata": {},
   "outputs": [],
   "source": [
    "tabelas2022ofc = [\n",
    " tabela_2022, tabela_20221, \n",
    "]\n",
    "\n",
    "tabela_final_2022 = pd.concat(tabelas2022ofc, ignore_index=True)\n",
    "\n"
   ]
  },
  {
   "cell_type": "code",
   "execution_count": 60,
   "metadata": {},
   "outputs": [
    {
     "data": {
      "text/plain": [
       "Index(['data_atendimento', 'denunciante', 'uf', 'município', 'tipo_violencia',\n",
       "       'relacao_agressor_contexto', 'sexo_vitima', 'orientacao_sexual_vitima',\n",
       "       'faixa_etaria_vitima', 'cor_vitima', 'sexo_agressor',\n",
       "       'orientacao_sexual_agressor', 'faixa_etaria_agressor', 'cor_agressor',\n",
       "       'violencia', 'Faixa_etária_da_vítima'],\n",
       "      dtype='object')"
      ]
     },
     "execution_count": 60,
     "metadata": {},
     "output_type": "execute_result"
    }
   ],
   "source": [
    "tabela_final_2022.columns"
   ]
  },
  {
   "cell_type": "code",
   "execution_count": 61,
   "metadata": {},
   "outputs": [],
   "source": [
    "# Transformando a coluna de data de objeto para datatime\n",
    "\n",
    "#tabela_2021['data_atendimento'] = pd.to_datetime(tabela_2021['data_atendimento'])\n",
    "\n",
    "tabela_final_2022['data_atendimento'] = pd.to_datetime(tabela_final_2022['data_atendimento'], format='%d/%m/%Y %H:%M')"
   ]
  },
  {
   "cell_type": "markdown",
   "metadata": {},
   "source": [
    "Tratando bases 2023 e 20231"
   ]
  },
  {
   "cell_type": "code",
   "execution_count": 62,
   "metadata": {},
   "outputs": [
    {
     "data": {
      "text/plain": [
       "Index(['hash', 'Data_de_cadastro', 'Canal_de_atendimento',\n",
       "       'Denúncia_emergencial', 'Denunciante', 'Cenário_da_violação', 'País',\n",
       "       'UF', 'Município', 'Frequência', 'Início_das_violações',\n",
       "       'sl_quantidade_vitimas', 'Grupo_vulnerável', 'Motivação',\n",
       "       'Relação_vítima_suspeito', 'sl_vitima_cadastro', 'Gênero_da_vítima',\n",
       "       'Orientação_sexual_da_vítima', 'Faixa_etária_da_vítima',\n",
       "       'Nacionalidade_da_vítima', 'sl_vitima_naturalidade',\n",
       "       'sl_vitima_naturalizado_uf', 'sl_vitima_naturalizado_municipio',\n",
       "       'Deficiência_da_vítima', 'Doença_rara_da_vítima',\n",
       "       'Deficiência_relacionada_a_doença_rara', 'Vítima_preso_a',\n",
       "       'País_da_vítima', 'UF_da_vítima', 'Município_da_vítima',\n",
       "       'Profissão_da_vítima', 'Grau_de_instrução_da_vítima',\n",
       "       'Religião_da_vítima', 'Raça_Cor_da_vítima', 'Etnia_da_vítima',\n",
       "       'Faixa_de_renda_da_vítima', 'Natureza_Jurídica_do_Suspeito',\n",
       "       'Gênero_do_suspeito', 'Orientação_sexual_do_suspeito',\n",
       "       'Faixa_etária_do_suspeito', 'Suspeito_nacionalidade',\n",
       "       'sl_suspeito_naturalidade', 'sl_suspeito_naturalizado_uf',\n",
       "       'sl_suspeito_naturalizado_municipio', 'Deficiência_do_suspeito',\n",
       "       'Doença_rara_do_suspeito',\n",
       "       'Deficiência_relacionada_a_doença_rara_suspeito', 'Suspeito_preso',\n",
       "       'País_do_suspeito', 'UF_do_suspeito', 'sl_suspeito_municipio',\n",
       "       'Profissão_do_suspeito', 'Grau_de_instrução_do_suspeito',\n",
       "       'Religião_do_suspeito', 'Raça_Cor_do_suspeito', 'Suspeito_Etnia',\n",
       "       'Faixa_de_renda_do_suspeito', 'Vínculo_Órgão_PJ_do_suspeito',\n",
       "       'sl_suspeito_ramo', 'suspeito_especificacao_etnia',\n",
       "       'vitima_especificacao_etnia', 'violacao'],\n",
       "      dtype='object')"
      ]
     },
     "execution_count": 62,
     "metadata": {},
     "output_type": "execute_result"
    }
   ],
   "source": [
    "tabela2023.columns"
   ]
  },
  {
   "cell_type": "code",
   "execution_count": 63,
   "metadata": {},
   "outputs": [
    {
     "data": {
      "text/plain": [
       "Index(['hash', 'Data_de_cadastro', 'Canal_de_atendimento',\n",
       "       'Denúncia_emergencial', 'Denunciante', 'Cenário_da_violação', 'País',\n",
       "       'UF', 'Município', 'Frequência', 'Início_das_violações',\n",
       "       'sl_quantidade_vitimas', 'Grupo_vulnerável', 'Motivação',\n",
       "       'Relação_vítima_suspeito', 'sl_vitima_cadastro', 'Gênero_da_vítima',\n",
       "       'Orientação_sexual_da_vítima', 'Faixa_etária_da_vítima',\n",
       "       'Nacionalidade_da_vítima', 'sl_vitima_naturalidade',\n",
       "       'sl_vitima_naturalizado_uf', 'sl_vitima_naturalizado_municipio',\n",
       "       'Deficiência_da_vítima', 'Doença_rara_da_vítima',\n",
       "       'Deficiência_relacionada_a_doença_rara', 'Vítima_preso_a',\n",
       "       'País_da_vítima', 'UF_da_vítima', 'Município_da_vítima',\n",
       "       'Profissão_da_vítima', 'Grau_de_instrução_da_vítima',\n",
       "       'Religião_da_vítima', 'Raça_Cor_da_vítima', 'Etnia_da_vítima',\n",
       "       'Faixa_de_renda_da_vítima', 'Natureza_Jurídica_do_Suspeito',\n",
       "       'Gênero_do_suspeito', 'Orientação_sexual_do_suspeito',\n",
       "       'Faixa_etária_do_suspeito', 'Suspeito_nacionalidade',\n",
       "       'sl_suspeito_naturalidade', 'sl_suspeito_naturalizado_uf',\n",
       "       'sl_suspeito_naturalizado_municipio', 'Deficiência_do_suspeito',\n",
       "       'Doença_rara_do_suspeito',\n",
       "       'Deficiência_relacionada_a_doença_rara_suspeito', 'Suspeito_preso',\n",
       "       'País_do_suspeito', 'UF_do_suspeito', 'sl_suspeito_municipio',\n",
       "       'Profissão_do_suspeito', 'Grau_de_instrução_do_suspeito',\n",
       "       'Religião_do_suspeito', 'Raça_Cor_do_suspeito', 'Suspeito_Etnia',\n",
       "       'Faixa_de_renda_do_suspeito', 'Vínculo_Órgão_PJ_do_suspeito',\n",
       "       'sl_suspeito_ramo', 'suspeito_especificacao_etnia',\n",
       "       'vitima_especificacao_etnia', 'violacao'],\n",
       "      dtype='object')"
      ]
     },
     "execution_count": 63,
     "metadata": {},
     "output_type": "execute_result"
    }
   ],
   "source": [
    "tabela20231.columns"
   ]
  },
  {
   "cell_type": "code",
   "execution_count": 64,
   "metadata": {},
   "outputs": [],
   "source": [
    "columns_to_drop10= [\n",
    "    'hash',\n",
    "    'Canal_de_atendimento',\n",
    "    'Denúncia_emergencial', \n",
    "    'Cenário_da_violação', \n",
    "    'País',\n",
    "    'Frequência', \n",
    "    'Início_das_violações',\n",
    "    'sl_quantidade_vitimas',  \n",
    "    'Motivação',\n",
    "    'sl_vitima_cadastro', \n",
    "    'Nacionalidade_da_vítima',\n",
    "    'sl_vitima_naturalidade',\n",
    "    'sl_vitima_naturalizado_uf', \n",
    "    'sl_vitima_naturalizado_municipio',\n",
    "    'Deficiência_da_vítima', \n",
    "    'Doença_rara_da_vítima',\n",
    "    'Deficiência_relacionada_a_doença_rara', \n",
    "    'Vítima_preso_a',\n",
    "    'País_da_vítima', \n",
    "    'UF_da_vítima', \n",
    "    'Município_da_vítima',\n",
    "    'Profissão_da_vítima', \n",
    "    'Grau_de_instrução_da_vítima',\n",
    "    'Religião_da_vítima', \n",
    "    'Etnia_da_vítima',\n",
    "    'Faixa_de_renda_da_vítima', \n",
    "    'Natureza_Jurídica_do_Suspeito',\n",
    "    'Suspeito_nacionalidade',\n",
    "    'sl_suspeito_naturalidade', \n",
    "    'sl_suspeito_naturalizado_uf',\n",
    "    'sl_suspeito_naturalizado_municipio', \n",
    "    'Deficiência_do_suspeito',\n",
    "    'Doença_rara_do_suspeito',\n",
    "    'Deficiência_relacionada_a_doença_rara_suspeito', \n",
    "    'Suspeito_preso',\n",
    "    'País_do_suspeito', \n",
    "    'UF_do_suspeito', \n",
    "    'sl_suspeito_municipio',\n",
    "    'Profissão_do_suspeito', \n",
    "    'Grau_de_instrução_do_suspeito',\n",
    "    'Religião_do_suspeito',\n",
    "    'Suspeito_Etnia',\n",
    "    'Faixa_de_renda_do_suspeito', \n",
    "    'Vínculo_Órgão_PJ_do_suspeito',\n",
    "    'sl_suspeito_ramo', \n",
    "    'suspeito_especificacao_etnia',\n",
    "    'vitima_especificacao_etnia',\n",
    "    ]\n",
    "\n",
    "# Remover as colunas especificadas\n",
    "tabela_2023 = tabela2023.drop(columns=columns_to_drop10)\n"
   ]
  },
  {
   "cell_type": "code",
   "execution_count": 65,
   "metadata": {},
   "outputs": [],
   "source": [
    "columns_to_drop11= [\n",
    "    'hash',\n",
    "    'Canal_de_atendimento',\n",
    "    'Denúncia_emergencial', \n",
    "    'Cenário_da_violação', \n",
    "    'País',\n",
    "    'Frequência', \n",
    "    'Início_das_violações',\n",
    "    'sl_quantidade_vitimas',  \n",
    "    'Motivação',\n",
    "    'sl_vitima_cadastro', \n",
    "    'Nacionalidade_da_vítima',\n",
    "    'sl_vitima_naturalidade',\n",
    "    'sl_vitima_naturalizado_uf', \n",
    "    'sl_vitima_naturalizado_municipio',\n",
    "    'Deficiência_da_vítima', \n",
    "    'Doença_rara_da_vítima',\n",
    "    'Deficiência_relacionada_a_doença_rara', \n",
    "    'Vítima_preso_a',\n",
    "    'País_da_vítima', \n",
    "    'UF_da_vítima', \n",
    "    'Município_da_vítima',\n",
    "    'Profissão_da_vítima', \n",
    "    'Grau_de_instrução_da_vítima',\n",
    "    'Religião_da_vítima', \n",
    "    'Etnia_da_vítima',\n",
    "    'Faixa_de_renda_da_vítima', \n",
    "    'Natureza_Jurídica_do_Suspeito',\n",
    "    'Suspeito_nacionalidade',\n",
    "    'sl_suspeito_naturalidade', \n",
    "    'sl_suspeito_naturalizado_uf',\n",
    "    'sl_suspeito_naturalizado_municipio', \n",
    "    'Deficiência_do_suspeito',\n",
    "    'Doença_rara_do_suspeito',\n",
    "    'Deficiência_relacionada_a_doença_rara_suspeito', \n",
    "    'Suspeito_preso',\n",
    "    'País_do_suspeito', \n",
    "    'UF_do_suspeito', \n",
    "    'sl_suspeito_municipio',\n",
    "    'Profissão_do_suspeito', \n",
    "    'Grau_de_instrução_do_suspeito',\n",
    "    'Religião_do_suspeito',\n",
    "    'Suspeito_Etnia',\n",
    "    'Faixa_de_renda_do_suspeito', \n",
    "    'Vínculo_Órgão_PJ_do_suspeito',\n",
    "    'sl_suspeito_ramo', \n",
    "    'suspeito_especificacao_etnia',\n",
    "    'vitima_especificacao_etnia',\n",
    "    ]\n",
    "\n",
    "# Remover as colunas especificadas\n",
    "tabela_20231 = tabela20231.drop(columns=columns_to_drop11)\n"
   ]
  },
  {
   "cell_type": "code",
   "execution_count": 66,
   "metadata": {},
   "outputs": [],
   "source": [
    "#Substituir os nomes das colunas para ficar iguais aos da tabela 2017\n",
    "\n",
    "rename_dict = {\n",
    "    'Data_de_cadastro': 'data_atendimento',\n",
    "    'Denunciante': 'denunciante',\n",
    "    'UF': 'uf',\n",
    "    'Grupo_vulnerável':'tipo_violencia',\n",
    "    'Município': 'município',\n",
    "    'Relação_vítima_suspeito': 'relacao_agressor_contexto',\n",
    "    'Gênero_da_vítima': 'sexo_vitima',\n",
    "    'Orientação_sexual_da_vítima': 'orientacao_sexual_vitima',\n",
    "    'Raça_Cor_da_vítima': 'cor_vitima',\n",
    "    'Gênero_do_suspeito': 'sexo_agressor',\n",
    "    'Orientação_sexual_do_suspeito': 'orientacao_sexual_agressor',\n",
    "    'Raça_Cor_do_suspeito': 'cor_agressor',\n",
    "    'Faixa_etária_da vítima': 'faixa_etaria_vitima',\n",
    "    'Faixa_etária_do_suspeito': 'faixa_etaria_agressor',\n",
    "    'violacao': 'violencia',\n",
    "}\n",
    "\n",
    "# Renomear as colunas\n",
    "tabela_2023 = tabela_2023.rename(columns=rename_dict)"
   ]
  },
  {
   "cell_type": "code",
   "execution_count": 67,
   "metadata": {},
   "outputs": [],
   "source": [
    "#Substituir os nomes das colunas para ficar iguais aos da tabela 2017\n",
    "\n",
    "rename_dict = {\n",
    "    'Data_de_cadastro': 'data_atendimento',\n",
    "    'Denunciante': 'denunciante',\n",
    "    'UF': 'uf',\n",
    "    'Grupo_vulnerável':'tipo_violencia',\n",
    "    'Município': 'município',\n",
    "    'Relação_vítima_suspeito': 'relacao_agressor_contexto',\n",
    "    'Gênero_da_vítima': 'sexo_vitima',\n",
    "    'Orientação_sexual_da_vítima': 'orientacao_sexual_vitima',\n",
    "    'Raça_Cor_da_vítima': 'cor_vitima',\n",
    "    'Gênero_do_suspeito': 'sexo_agressor',\n",
    "    'Orientação_sexual_do_suspeito': 'orientacao_sexual_agressor',\n",
    "    'Raça_Cor_do_suspeito': 'cor_agressor',\n",
    "    'Faixa_etária_da vítima': 'faixa_etaria_vitima',\n",
    "    'Faixa_etária_do_suspeito': 'faixa_etaria_agressor',\n",
    "    'violacao': 'violencia',\n",
    "}\n",
    "\n",
    "# Renomear as colunas\n",
    "tabela_20231 = tabela_20231.rename(columns=rename_dict)"
   ]
  },
  {
   "cell_type": "code",
   "execution_count": 68,
   "metadata": {},
   "outputs": [],
   "source": [
    "tabelas2022ofc = [\n",
    " tabela_2023, tabela_20231, \n",
    "]\n",
    "\n",
    "tabela_final_2023 = pd.concat(tabelas2022ofc, ignore_index=True)"
   ]
  },
  {
   "cell_type": "code",
   "execution_count": 69,
   "metadata": {},
   "outputs": [],
   "source": [
    "# Transformando a coluna de data de objeto para datatime\n",
    "\n",
    "#tabela_final_2023['data_atendimento'] = pd.to_datetime(tabela_final_2023['data_atendimento'])\n",
    "\n",
    "#tabela_final_2023['data_atendimento'] = pd.to_datetime(tabela_final_2023['data_atendimento'], format='%d/%m/%Y %H:%M')\n",
    "\n",
    "tabela_final_2023['data_atendimento'] = pd.to_datetime(tabela_final_2023['data_atendimento'], format='%d/%m/%Y %H:%M', errors='coerce')"
   ]
  },
  {
   "cell_type": "code",
   "execution_count": 70,
   "metadata": {},
   "outputs": [
    {
     "data": {
      "text/plain": [
       "Index(['data_atendimento', 'denunciante', 'uf', 'município', 'tipo_violencia',\n",
       "       'relacao_agressor_contexto', 'sexo_vitima', 'orientacao_sexual_vitima',\n",
       "       'Faixa_etária_da_vítima', 'cor_vitima', 'sexo_agressor',\n",
       "       'orientacao_sexual_agressor', 'faixa_etaria_agressor', 'cor_agressor',\n",
       "       'violencia'],\n",
       "      dtype='object')"
      ]
     },
     "execution_count": 70,
     "metadata": {},
     "output_type": "execute_result"
    }
   ],
   "source": [
    "\n",
    "tabela_final_2023.columns"
   ]
  },
  {
   "cell_type": "markdown",
   "metadata": {},
   "source": [
    "Tratando a Base de 2024"
   ]
  },
  {
   "cell_type": "code",
   "execution_count": 71,
   "metadata": {},
   "outputs": [
    {
     "data": {
      "text/plain": [
       "Index(['hash', 'Data_de_cadastro', 'Canal_de_atendimento',\n",
       "       'Denúncia_emergencial', 'Denunciante', 'Cenário_da_violação', 'País',\n",
       "       'UF', 'Município', 'Frequência', 'Início_das_violações',\n",
       "       'sl_quantidade_vitimas', 'Grupo_vulnerável', 'Motivação',\n",
       "       'Relação_vítima_suspeito', 'sl_vitima_cadastro', 'Gênero_da_vítima',\n",
       "       'Orientação_sexual_da_vítima', 'Faixa_etária_da_vítima',\n",
       "       'Nacionalidade_da_vítima', 'sl_vitima_naturalidade',\n",
       "       'sl_vitima_naturalizado_uf', 'sl_vitima_naturalizado_municipio',\n",
       "       'Deficiência_da_vítima', 'Doença_rara_da_vítima',\n",
       "       'Deficiência_relacionada_a_doença_rara', 'Vítima_preso_a',\n",
       "       'País_da_vítima', 'UF_da_vítima', 'Município_da_vítima',\n",
       "       'Profissão_da_vítima', 'Grau_de_instrução_da_vítima',\n",
       "       'Religião_da_vítima', 'Raça_Cor_da_vítima', 'Etnia_da_vítima',\n",
       "       'Faixa_de_renda_da_vítima', 'Natureza_Jurídica_do_Suspeito',\n",
       "       'Gênero_do_suspeito', 'Orientação_sexual_do_suspeito',\n",
       "       'Faixa_etária_do_suspeito', 'Suspeito_nacionalidade',\n",
       "       'sl_suspeito_naturalidade', 'sl_suspeito_naturalizado_uf',\n",
       "       'sl_suspeito_naturalizado_municipio', 'Deficiência_do_suspeito',\n",
       "       'Doença_rara_do_suspeito',\n",
       "       'Deficiência_relacionada_a_doença_rara_suspeito', 'Suspeito_preso',\n",
       "       'País_do_suspeito', 'UF_do_suspeito', 'sl_suspeito_municipio',\n",
       "       'Profissão_do_suspeito', 'Grau_de_instrução_do_suspeito',\n",
       "       'Religião_do_suspeito', 'Raça_Cor_do_suspeito', 'Suspeito_Etnia',\n",
       "       'Faixa_de_renda_do_suspeito', 'Vínculo_Órgão_PJ_do_suspeito',\n",
       "       'sl_suspeito_ramo', 'suspeito_especificacao_etnia',\n",
       "       'vitima_especificacao_etnia', 'violacao'],\n",
       "      dtype='object')"
      ]
     },
     "execution_count": 71,
     "metadata": {},
     "output_type": "execute_result"
    }
   ],
   "source": [
    "tabela2024.columns"
   ]
  },
  {
   "cell_type": "code",
   "execution_count": 72,
   "metadata": {},
   "outputs": [],
   "source": [
    "columns_to_drop12= [\n",
    "    'hash',\n",
    "    'Canal_de_atendimento',\n",
    "    'Denúncia_emergencial', \n",
    "    'Cenário_da_violação', \n",
    "    'País',\n",
    "    'Frequência', \n",
    "    'Início_das_violações',\n",
    "    'sl_quantidade_vitimas',  \n",
    "    'Motivação',\n",
    "    'sl_vitima_cadastro', \n",
    "    'Nacionalidade_da_vítima',\n",
    "    'sl_vitima_naturalidade',\n",
    "    'sl_vitima_naturalizado_uf', \n",
    "    'sl_vitima_naturalizado_municipio',\n",
    "    'Deficiência_da_vítima', \n",
    "    'Doença_rara_da_vítima',\n",
    "    'Deficiência_relacionada_a_doença_rara', \n",
    "    'Vítima_preso_a',\n",
    "    'País_da_vítima', \n",
    "    'UF_da_vítima', \n",
    "    'Município_da_vítima',\n",
    "    'Profissão_da_vítima', \n",
    "    'Grau_de_instrução_da_vítima',\n",
    "    'Religião_da_vítima', \n",
    "    'Etnia_da_vítima',\n",
    "    'Faixa_de_renda_da_vítima', \n",
    "    'Natureza_Jurídica_do_Suspeito',\n",
    "    'Suspeito_nacionalidade',\n",
    "    'sl_suspeito_naturalidade', \n",
    "    'sl_suspeito_naturalizado_uf',\n",
    "    'sl_suspeito_naturalizado_municipio', \n",
    "    'Deficiência_do_suspeito',\n",
    "    'Doença_rara_do_suspeito',\n",
    "    'Deficiência_relacionada_a_doença_rara_suspeito', \n",
    "    'Suspeito_preso',\n",
    "    'País_do_suspeito', \n",
    "    'UF_do_suspeito', \n",
    "    'sl_suspeito_municipio',\n",
    "    'Profissão_do_suspeito', \n",
    "    'Grau_de_instrução_do_suspeito',\n",
    "    'Religião_do_suspeito',\n",
    "    'Suspeito_Etnia',\n",
    "    'Faixa_de_renda_do_suspeito', \n",
    "    'Vínculo_Órgão_PJ_do_suspeito',\n",
    "    'sl_suspeito_ramo', \n",
    "    'suspeito_especificacao_etnia',\n",
    "    'vitima_especificacao_etnia',\n",
    "    ]\n",
    "\n",
    "# Remover as colunas especificadas\n",
    "tabela_2024 = tabela2024.drop(columns=columns_to_drop12)"
   ]
  },
  {
   "cell_type": "code",
   "execution_count": 73,
   "metadata": {},
   "outputs": [],
   "source": [
    "#Substituir os nomes das colunas para ficar iguais aos da tabela 2017\n",
    "\n",
    "rename_dict = {\n",
    "    'Data_de_cadastro': 'data_atendimento',\n",
    "    'Denunciante': 'denunciante',\n",
    "    'UF': 'uf',\n",
    "    'Grupo_vulnerável':'tipo_violencia',\n",
    "    'Município': 'município',\n",
    "    'Relação_vítima_suspeito': 'relacao_agressor_contexto',\n",
    "    'Gênero_da_vítima': 'sexo_vitima',\n",
    "    'Orientação_sexual_da_vítima': 'orientacao_sexual_vitima',\n",
    "    'Raça_Cor_da_vítima': 'cor_vitima',\n",
    "    'Gênero_do_suspeito': 'sexo_agressor',\n",
    "    'Orientação_sexual_do_suspeito': 'orientacao_sexual_agressor',\n",
    "    'Raça_Cor_do_suspeito': 'cor_agressor',\n",
    "    'Faixa_etária_da vítima': 'faixa_etaria_vitima',\n",
    "    'Faixa_etária_do_suspeito': 'faixa_etaria_agressor',\n",
    "    'violacao': 'violencia',\n",
    "}\n",
    "\n",
    "# Renomear as colunas\n",
    "tabela_2024 = tabela_2024.rename(columns=rename_dict)"
   ]
  },
  {
   "cell_type": "code",
   "execution_count": 74,
   "metadata": {},
   "outputs": [],
   "source": [
    "# Transformando a coluna de data de objeto para datatime\n",
    "\n",
    "#tabela_final_2023['data_atendimento'] = pd.to_datetime(tabela_final_2023['data_atendimento'])\n",
    "\n",
    "#tabela_final_2023['data_atendimento'] = pd.to_datetime(tabela_final_2023['data_atendimento'], format='%d/%m/%Y %H:%M')\n",
    "\n",
    "tabela_2024['data_atendimento'] = pd.to_datetime(tabela_2024['data_atendimento'], format='%d/%m/%Y %H:%M', errors='coerce')"
   ]
  },
  {
   "cell_type": "markdown",
   "metadata": {},
   "source": [
    "## Juntando as bases tratadas"
   ]
  },
  {
   "cell_type": "code",
   "execution_count": 75,
   "metadata": {},
   "outputs": [],
   "source": [
    "tabelas_juntas= [\n",
    " tabela2017, tabela_2018, tabela_20181, tabela_2019, tabela_2020, tabela_20201, tabela_2021, tabela_final_2022, tabela_final_2023, tabela_2024\n",
    "]\n",
    "\n",
    "tabela_completa180 = pd.concat(tabelas_juntas, ignore_index=True)\n"
   ]
  },
  {
   "cell_type": "code",
   "execution_count": 76,
   "metadata": {},
   "outputs": [
    {
     "data": {
      "text/plain": [
       "Index(['data_atendimento', 'tipo_violencia', 'denunciante',\n",
       "       'dependencia_financeira_vitima', 'sexo_vitima', 'cor_vitima',\n",
       "       'faixa_etaria_vitima', 'relacao_agressor_contexto', 'sexo_agressor',\n",
       "       'cor_agressor', 'faixa_etaria_agressor', 'violencia', 'uf', 'municipio',\n",
       "       'residencia', 'município', 'identidade_genero_vitima',\n",
       "       'orientacao_sexual_vitima', 'identidade_genero_agressor',\n",
       "       'orientacao_sexual_agressor', 'dropar', 'Faixa_etária_da_vítima'],\n",
       "      dtype='object')"
      ]
     },
     "execution_count": 76,
     "metadata": {},
     "output_type": "execute_result"
    }
   ],
   "source": [
    "tabela_completa180.columns"
   ]
  },
  {
   "cell_type": "markdown",
   "metadata": {},
   "source": [
    "## Tratando a Base Completa"
   ]
  },
  {
   "cell_type": "code",
   "execution_count": 77,
   "metadata": {},
   "outputs": [
    {
     "name": "stdout",
     "output_type": "stream",
     "text": [
      "<class 'pandas.core.frame.DataFrame'>\n",
      "RangeIndex: 2212896 entries, 0 to 2212895\n",
      "Data columns (total 22 columns):\n",
      " #   Column                         Dtype \n",
      "---  ------                         ----- \n",
      " 0   data_atendimento               object\n",
      " 1   tipo_violencia                 object\n",
      " 2   denunciante                    object\n",
      " 3   dependencia_financeira_vitima  object\n",
      " 4   sexo_vitima                    object\n",
      " 5   cor_vitima                     object\n",
      " 6   faixa_etaria_vitima            object\n",
      " 7   relacao_agressor_contexto      object\n",
      " 8   sexo_agressor                  object\n",
      " 9   cor_agressor                   object\n",
      " 10  faixa_etaria_agressor          object\n",
      " 11  violencia                      object\n",
      " 12  uf                             object\n",
      " 13  municipio                      object\n",
      " 14  residencia                     object\n",
      " 15  município                      object\n",
      " 16  identidade_genero_vitima       object\n",
      " 17  orientacao_sexual_vitima       object\n",
      " 18  identidade_genero_agressor     object\n",
      " 19  orientacao_sexual_agressor     object\n",
      " 20  dropar                         object\n",
      " 21  Faixa_etária_da_vítima         object\n",
      "dtypes: object(22)\n",
      "memory usage: 371.4+ MB\n"
     ]
    }
   ],
   "source": [
    "tabela_completa180.info()"
   ]
  },
  {
   "cell_type": "code",
   "execution_count": 79,
   "metadata": {},
   "outputs": [],
   "source": [
    "# Transformando a coluna de data de objeto para datatime\n",
    "\n",
    "#tabela_final_2023['data_atendimento'] = pd.to_datetime(tabela_final_2023['data_atendimento'])\n",
    "\n",
    "#tabela_final_2023['data_atendimento'] = pd.to_datetime(tabela_final_2023['data_atendimento'], format='%d/%m/%Y %H:%M')\n",
    "\n",
    "tabela_completa180['data_atendimento'] = pd.to_datetime(tabela_completa180['data_atendimento'], format='%d/%m/%Y %H:%M', errors='coerce')\n"
   ]
  },
  {
   "cell_type": "code",
   "execution_count": 81,
   "metadata": {},
   "outputs": [],
   "source": [
    "# Dropar colunnas que passaram\n",
    "\n",
    "columns_to_drop7 = [\n",
    "    'dependencia_financeira_vitima',\n",
    "    'dropar'\n",
    "    ]\n",
    "\n",
    "# Remover as colunas especificadas\n",
    "tabela_completa180 = tabela_completa180.drop(columns=columns_to_drop7)\n"
   ]
  },
  {
   "cell_type": "code",
   "execution_count": 84,
   "metadata": {},
   "outputs": [
    {
     "data": {
      "text/html": [
       "<div>\n",
       "<style scoped>\n",
       "    .dataframe tbody tr th:only-of-type {\n",
       "        vertical-align: middle;\n",
       "    }\n",
       "\n",
       "    .dataframe tbody tr th {\n",
       "        vertical-align: top;\n",
       "    }\n",
       "\n",
       "    .dataframe thead th {\n",
       "        text-align: right;\n",
       "    }\n",
       "</style>\n",
       "<table border=\"1\" class=\"dataframe\">\n",
       "  <thead>\n",
       "    <tr style=\"text-align: right;\">\n",
       "      <th></th>\n",
       "      <th>data_atendimento</th>\n",
       "      <th>tipo_violencia</th>\n",
       "      <th>denunciante</th>\n",
       "      <th>sexo_vitima</th>\n",
       "      <th>cor_vitima</th>\n",
       "      <th>faixa_etaria_vitima</th>\n",
       "      <th>relacao_agressor_contexto</th>\n",
       "      <th>sexo_agressor</th>\n",
       "      <th>cor_agressor</th>\n",
       "      <th>faixa_etaria_agressor</th>\n",
       "      <th>violencia</th>\n",
       "      <th>uf</th>\n",
       "      <th>municipio</th>\n",
       "      <th>residencia</th>\n",
       "      <th>município</th>\n",
       "      <th>identidade_genero_vitima</th>\n",
       "      <th>orientacao_sexual_vitima</th>\n",
       "      <th>identidade_genero_agressor</th>\n",
       "      <th>orientacao_sexual_agressor</th>\n",
       "      <th>Faixa_etária_da_vítima</th>\n",
       "    </tr>\n",
       "  </thead>\n",
       "  <tbody>\n",
       "    <tr>\n",
       "      <th>0</th>\n",
       "      <td>Não Informado</td>\n",
       "      <td>VIOLENCIA MORAL</td>\n",
       "      <td>Vítima</td>\n",
       "      <td>Feminino</td>\n",
       "      <td>Não Informado</td>\n",
       "      <td>entre 15 e 19 anos</td>\n",
       "      <td>Não Informado</td>\n",
       "      <td>Masculino</td>\n",
       "      <td>Não Informado</td>\n",
       "      <td>entre 30 e 34 anos</td>\n",
       "      <td>INJÚRIA</td>\n",
       "      <td>Não Informado</td>\n",
       "      <td>Não Informado</td>\n",
       "      <td>Não Informado</td>\n",
       "      <td>Não Informado</td>\n",
       "      <td>Não Informado</td>\n",
       "      <td>Não Informado</td>\n",
       "      <td>Não Informado</td>\n",
       "      <td>Não Informado</td>\n",
       "      <td>Não Informado</td>\n",
       "    </tr>\n",
       "    <tr>\n",
       "      <th>1</th>\n",
       "      <td>Não Informado</td>\n",
       "      <td>VIOLENCIA SEXUAL</td>\n",
       "      <td>Não Informado</td>\n",
       "      <td>Feminino</td>\n",
       "      <td>Não Informado</td>\n",
       "      <td>Não Informado</td>\n",
       "      <td>Não Informado</td>\n",
       "      <td>Masculino</td>\n",
       "      <td>Não Informado</td>\n",
       "      <td>Não Informado</td>\n",
       "      <td>ESTUPRO</td>\n",
       "      <td>Não Informado</td>\n",
       "      <td>Não Informado</td>\n",
       "      <td>Não Informado</td>\n",
       "      <td>Não Informado</td>\n",
       "      <td>Não Informado</td>\n",
       "      <td>Não Informado</td>\n",
       "      <td>Não Informado</td>\n",
       "      <td>Não Informado</td>\n",
       "      <td>Não Informado</td>\n",
       "    </tr>\n",
       "    <tr>\n",
       "      <th>2</th>\n",
       "      <td>Não Informado</td>\n",
       "      <td>VIOLENCIA SEXUAL</td>\n",
       "      <td>Não Informado</td>\n",
       "      <td>Feminino</td>\n",
       "      <td>Não Informado</td>\n",
       "      <td>Não Informado</td>\n",
       "      <td>Não Informado</td>\n",
       "      <td>Masculino</td>\n",
       "      <td>Não Informado</td>\n",
       "      <td>Não Informado</td>\n",
       "      <td>ESTUPRO</td>\n",
       "      <td>RJ</td>\n",
       "      <td>MESQUITA</td>\n",
       "      <td>Não Informado</td>\n",
       "      <td>Não Informado</td>\n",
       "      <td>Não Informado</td>\n",
       "      <td>Não Informado</td>\n",
       "      <td>Não Informado</td>\n",
       "      <td>Não Informado</td>\n",
       "      <td>Não Informado</td>\n",
       "    </tr>\n",
       "    <tr>\n",
       "      <th>3</th>\n",
       "      <td>Não Informado</td>\n",
       "      <td>CARCERE PRIVADO</td>\n",
       "      <td>Não Informado</td>\n",
       "      <td>Feminino</td>\n",
       "      <td>Não Informado</td>\n",
       "      <td>Não Informado</td>\n",
       "      <td>Não Informado</td>\n",
       "      <td>Masculino</td>\n",
       "      <td>Não Informado</td>\n",
       "      <td>Não Informado</td>\n",
       "      <td>CÁRCERE PRIVADO</td>\n",
       "      <td>Não Informado</td>\n",
       "      <td>Não Informado</td>\n",
       "      <td>Não Informado</td>\n",
       "      <td>Não Informado</td>\n",
       "      <td>Não Informado</td>\n",
       "      <td>Não Informado</td>\n",
       "      <td>Não Informado</td>\n",
       "      <td>Não Informado</td>\n",
       "      <td>Não Informado</td>\n",
       "    </tr>\n",
       "    <tr>\n",
       "      <th>4</th>\n",
       "      <td>Não Informado</td>\n",
       "      <td>VIOLENCIA FISICA</td>\n",
       "      <td>Filho(a)/Enteado(a)</td>\n",
       "      <td>Feminino</td>\n",
       "      <td>Não Informado</td>\n",
       "      <td>Não Informado</td>\n",
       "      <td>Companheiro</td>\n",
       "      <td>Masculino</td>\n",
       "      <td>Não Informado</td>\n",
       "      <td>Não Informado</td>\n",
       "      <td>LESÃO CORPORAL LEVE</td>\n",
       "      <td>Não Informado</td>\n",
       "      <td>Não Informado</td>\n",
       "      <td>Não Informado</td>\n",
       "      <td>Não Informado</td>\n",
       "      <td>Não Informado</td>\n",
       "      <td>Não Informado</td>\n",
       "      <td>Não Informado</td>\n",
       "      <td>Não Informado</td>\n",
       "      <td>Não Informado</td>\n",
       "    </tr>\n",
       "    <tr>\n",
       "      <th>...</th>\n",
       "      <td>...</td>\n",
       "      <td>...</td>\n",
       "      <td>...</td>\n",
       "      <td>...</td>\n",
       "      <td>...</td>\n",
       "      <td>...</td>\n",
       "      <td>...</td>\n",
       "      <td>...</td>\n",
       "      <td>...</td>\n",
       "      <td>...</td>\n",
       "      <td>...</td>\n",
       "      <td>...</td>\n",
       "      <td>...</td>\n",
       "      <td>...</td>\n",
       "      <td>...</td>\n",
       "      <td>...</td>\n",
       "      <td>...</td>\n",
       "      <td>...</td>\n",
       "      <td>...</td>\n",
       "      <td>...</td>\n",
       "    </tr>\n",
       "    <tr>\n",
       "      <th>2212891</th>\n",
       "      <td>Não Informado</td>\n",
       "      <td>VIOLÊNCIA CONTRA A MULHER</td>\n",
       "      <td>A PRÓPRIA VÍTIMA</td>\n",
       "      <td>FEMININO</td>\n",
       "      <td>PARDA</td>\n",
       "      <td>Não Informado</td>\n",
       "      <td>OUTROS</td>\n",
       "      <td>FEMININO</td>\n",
       "      <td>BRANCA</td>\n",
       "      <td>70 A 74 ANOS</td>\n",
       "      <td>INTEGRIDADE&gt;PSÍQUICA&gt;EXPOSIÇÃO (EROTIZAÇÃO)</td>\n",
       "      <td>MT</td>\n",
       "      <td>Não Informado</td>\n",
       "      <td>Não Informado</td>\n",
       "      <td>5103403 | CUIABÁ</td>\n",
       "      <td>Não Informado</td>\n",
       "      <td>NÃO</td>\n",
       "      <td>Não Informado</td>\n",
       "      <td>NÃO</td>\n",
       "      <td>40 A 44 ANOS</td>\n",
       "    </tr>\n",
       "    <tr>\n",
       "      <th>2212892</th>\n",
       "      <td>Não Informado</td>\n",
       "      <td>VIOLÊNCIA CONTRA A MULHER</td>\n",
       "      <td>A PRÓPRIA VÍTIMA</td>\n",
       "      <td>FEMININO</td>\n",
       "      <td>PARDA</td>\n",
       "      <td>Não Informado</td>\n",
       "      <td>OUTROS</td>\n",
       "      <td>MASCULINO</td>\n",
       "      <td>PRETA</td>\n",
       "      <td>40 A 44 ANOS</td>\n",
       "      <td>INTEGRIDADE&gt;FÍSICA&gt;EXPOSIÇÃO DE RISCO À SAÚDE</td>\n",
       "      <td>MT</td>\n",
       "      <td>Não Informado</td>\n",
       "      <td>Não Informado</td>\n",
       "      <td>5103403 | CUIABÁ</td>\n",
       "      <td>Não Informado</td>\n",
       "      <td>NÃO</td>\n",
       "      <td>Não Informado</td>\n",
       "      <td>NÃO</td>\n",
       "      <td>40 A 44 ANOS</td>\n",
       "    </tr>\n",
       "    <tr>\n",
       "      <th>2212893</th>\n",
       "      <td>Não Informado</td>\n",
       "      <td>VIOLÊNCIA CONTRA A MULHER</td>\n",
       "      <td>A PRÓPRIA VÍTIMA</td>\n",
       "      <td>FEMININO</td>\n",
       "      <td>PARDA</td>\n",
       "      <td>Não Informado</td>\n",
       "      <td>OUTROS</td>\n",
       "      <td>MASCULINO</td>\n",
       "      <td>PARDA</td>\n",
       "      <td>45 A 49 ANOS</td>\n",
       "      <td>INTEGRIDADE&gt;PSÍQUICA&gt;EXPOSIÇÃO (EROTIZAÇÃO)</td>\n",
       "      <td>MT</td>\n",
       "      <td>Não Informado</td>\n",
       "      <td>Não Informado</td>\n",
       "      <td>5103403 | CUIABÁ</td>\n",
       "      <td>Não Informado</td>\n",
       "      <td>NÃO</td>\n",
       "      <td>Não Informado</td>\n",
       "      <td>NÃO</td>\n",
       "      <td>40 A 44 ANOS</td>\n",
       "    </tr>\n",
       "    <tr>\n",
       "      <th>2212894</th>\n",
       "      <td>Não Informado</td>\n",
       "      <td>VIOLÊNCIA CONTRA A MULHER</td>\n",
       "      <td>A PRÓPRIA VÍTIMA</td>\n",
       "      <td>FEMININO</td>\n",
       "      <td>PARDA</td>\n",
       "      <td>Não Informado</td>\n",
       "      <td>OUTROS</td>\n",
       "      <td>MASCULINO</td>\n",
       "      <td>PARDA</td>\n",
       "      <td>45 A 49 ANOS</td>\n",
       "      <td>INTEGRIDADE&gt;NEGLIGÊNCIA</td>\n",
       "      <td>MT</td>\n",
       "      <td>Não Informado</td>\n",
       "      <td>Não Informado</td>\n",
       "      <td>5103403 | CUIABÁ</td>\n",
       "      <td>Não Informado</td>\n",
       "      <td>NÃO</td>\n",
       "      <td>Não Informado</td>\n",
       "      <td>NÃO</td>\n",
       "      <td>40 A 44 ANOS</td>\n",
       "    </tr>\n",
       "    <tr>\n",
       "      <th>2212895</th>\n",
       "      <td>Não Informado</td>\n",
       "      <td>Não Informado</td>\n",
       "      <td>Não Informado</td>\n",
       "      <td>Não Informado</td>\n",
       "      <td>Não Informado</td>\n",
       "      <td>Não Informado</td>\n",
       "      <td>Não Informado</td>\n",
       "      <td>Não Informado</td>\n",
       "      <td>Não Informado</td>\n",
       "      <td>Não Informado</td>\n",
       "      <td>Não Informado</td>\n",
       "      <td>Não Informado</td>\n",
       "      <td>Não Informado</td>\n",
       "      <td>Não Informado</td>\n",
       "      <td>Não Informado</td>\n",
       "      <td>Não Informado</td>\n",
       "      <td>Não Informado</td>\n",
       "      <td>Não Informado</td>\n",
       "      <td>Não Informado</td>\n",
       "      <td>Não Informado</td>\n",
       "    </tr>\n",
       "  </tbody>\n",
       "</table>\n",
       "<p>2212896 rows × 20 columns</p>\n",
       "</div>"
      ],
      "text/plain": [
       "        data_atendimento             tipo_violencia          denunciante  \\\n",
       "0          Não Informado            VIOLENCIA MORAL               Vítima   \n",
       "1          Não Informado           VIOLENCIA SEXUAL        Não Informado   \n",
       "2          Não Informado           VIOLENCIA SEXUAL        Não Informado   \n",
       "3          Não Informado            CARCERE PRIVADO        Não Informado   \n",
       "4          Não Informado           VIOLENCIA FISICA  Filho(a)/Enteado(a)   \n",
       "...                  ...                        ...                  ...   \n",
       "2212891    Não Informado  VIOLÊNCIA CONTRA A MULHER     A PRÓPRIA VÍTIMA   \n",
       "2212892    Não Informado  VIOLÊNCIA CONTRA A MULHER     A PRÓPRIA VÍTIMA   \n",
       "2212893    Não Informado  VIOLÊNCIA CONTRA A MULHER     A PRÓPRIA VÍTIMA   \n",
       "2212894    Não Informado  VIOLÊNCIA CONTRA A MULHER     A PRÓPRIA VÍTIMA   \n",
       "2212895    Não Informado              Não Informado        Não Informado   \n",
       "\n",
       "           sexo_vitima     cor_vitima faixa_etaria_vitima  \\\n",
       "0             Feminino  Não Informado  entre 15 e 19 anos   \n",
       "1             Feminino  Não Informado       Não Informado   \n",
       "2             Feminino  Não Informado       Não Informado   \n",
       "3             Feminino  Não Informado       Não Informado   \n",
       "4             Feminino  Não Informado       Não Informado   \n",
       "...                ...            ...                 ...   \n",
       "2212891       FEMININO          PARDA       Não Informado   \n",
       "2212892       FEMININO          PARDA       Não Informado   \n",
       "2212893       FEMININO          PARDA       Não Informado   \n",
       "2212894       FEMININO          PARDA       Não Informado   \n",
       "2212895  Não Informado  Não Informado       Não Informado   \n",
       "\n",
       "        relacao_agressor_contexto  sexo_agressor   cor_agressor  \\\n",
       "0                   Não Informado      Masculino  Não Informado   \n",
       "1                   Não Informado      Masculino  Não Informado   \n",
       "2                   Não Informado      Masculino  Não Informado   \n",
       "3                   Não Informado      Masculino  Não Informado   \n",
       "4                     Companheiro      Masculino  Não Informado   \n",
       "...                           ...            ...            ...   \n",
       "2212891                    OUTROS       FEMININO         BRANCA   \n",
       "2212892                    OUTROS      MASCULINO          PRETA   \n",
       "2212893                    OUTROS      MASCULINO          PARDA   \n",
       "2212894                    OUTROS      MASCULINO          PARDA   \n",
       "2212895             Não Informado  Não Informado  Não Informado   \n",
       "\n",
       "        faixa_etaria_agressor                                      violencia  \\\n",
       "0          entre 30 e 34 anos                                        INJÚRIA   \n",
       "1               Não Informado                                        ESTUPRO   \n",
       "2               Não Informado                                        ESTUPRO   \n",
       "3               Não Informado                                CÁRCERE PRIVADO   \n",
       "4               Não Informado                            LESÃO CORPORAL LEVE   \n",
       "...                       ...                                            ...   \n",
       "2212891          70 A 74 ANOS    INTEGRIDADE>PSÍQUICA>EXPOSIÇÃO (EROTIZAÇÃO)   \n",
       "2212892          40 A 44 ANOS  INTEGRIDADE>FÍSICA>EXPOSIÇÃO DE RISCO À SAÚDE   \n",
       "2212893          45 A 49 ANOS    INTEGRIDADE>PSÍQUICA>EXPOSIÇÃO (EROTIZAÇÃO)   \n",
       "2212894          45 A 49 ANOS                        INTEGRIDADE>NEGLIGÊNCIA   \n",
       "2212895         Não Informado                                  Não Informado   \n",
       "\n",
       "                    uf      municipio     residencia         município  \\\n",
       "0        Não Informado  Não Informado  Não Informado     Não Informado   \n",
       "1        Não Informado  Não Informado  Não Informado     Não Informado   \n",
       "2                  RJ        MESQUITA  Não Informado     Não Informado   \n",
       "3        Não Informado  Não Informado  Não Informado     Não Informado   \n",
       "4        Não Informado  Não Informado  Não Informado     Não Informado   \n",
       "...                ...            ...            ...               ...   \n",
       "2212891             MT  Não Informado  Não Informado  5103403 | CUIABÁ   \n",
       "2212892             MT  Não Informado  Não Informado  5103403 | CUIABÁ   \n",
       "2212893             MT  Não Informado  Não Informado  5103403 | CUIABÁ   \n",
       "2212894             MT  Não Informado  Não Informado  5103403 | CUIABÁ   \n",
       "2212895  Não Informado  Não Informado  Não Informado     Não Informado   \n",
       "\n",
       "        identidade_genero_vitima orientacao_sexual_vitima  \\\n",
       "0                  Não Informado            Não Informado   \n",
       "1                  Não Informado            Não Informado   \n",
       "2                  Não Informado            Não Informado   \n",
       "3                  Não Informado            Não Informado   \n",
       "4                  Não Informado            Não Informado   \n",
       "...                          ...                      ...   \n",
       "2212891            Não Informado                      NÃO   \n",
       "2212892            Não Informado                      NÃO   \n",
       "2212893            Não Informado                      NÃO   \n",
       "2212894            Não Informado                      NÃO   \n",
       "2212895            Não Informado            Não Informado   \n",
       "\n",
       "        identidade_genero_agressor orientacao_sexual_agressor  \\\n",
       "0                    Não Informado              Não Informado   \n",
       "1                    Não Informado              Não Informado   \n",
       "2                    Não Informado              Não Informado   \n",
       "3                    Não Informado              Não Informado   \n",
       "4                    Não Informado              Não Informado   \n",
       "...                            ...                        ...   \n",
       "2212891              Não Informado                        NÃO   \n",
       "2212892              Não Informado                        NÃO   \n",
       "2212893              Não Informado                        NÃO   \n",
       "2212894              Não Informado                        NÃO   \n",
       "2212895              Não Informado              Não Informado   \n",
       "\n",
       "        Faixa_etária_da_vítima  \n",
       "0                Não Informado  \n",
       "1                Não Informado  \n",
       "2                Não Informado  \n",
       "3                Não Informado  \n",
       "4                Não Informado  \n",
       "...                        ...  \n",
       "2212891           40 A 44 ANOS  \n",
       "2212892           40 A 44 ANOS  \n",
       "2212893           40 A 44 ANOS  \n",
       "2212894           40 A 44 ANOS  \n",
       "2212895          Não Informado  \n",
       "\n",
       "[2212896 rows x 20 columns]"
      ]
     },
     "execution_count": 84,
     "metadata": {},
     "output_type": "execute_result"
    }
   ],
   "source": [
    "# ver as informações nulas\n",
    "\n",
    "#Substituindo valor nulo por não informado\n",
    "tabela_completa180.fillna(value='Não Informado')"
   ]
  },
  {
   "cell_type": "markdown",
   "metadata": {},
   "source": [
    "## Extraindo para CSV"
   ]
  },
  {
   "cell_type": "code",
   "execution_count": 85,
   "metadata": {},
   "outputs": [],
   "source": [
    "# Salvando o resultado concatenado em um novo \n",
    "tabela_completa180.to_csv('tabela_completa_180.csv', index=False)"
   ]
  }
 ],
 "metadata": {
  "kernelspec": {
   "display_name": "Python 3",
   "language": "python",
   "name": "python3"
  },
  "language_info": {
   "codemirror_mode": {
    "name": "ipython",
    "version": 3
   },
   "file_extension": ".py",
   "mimetype": "text/x-python",
   "name": "python",
   "nbconvert_exporter": "python",
   "pygments_lexer": "ipython3",
   "version": "3.12.4"
  }
 },
 "nbformat": 4,
 "nbformat_minor": 2
}
